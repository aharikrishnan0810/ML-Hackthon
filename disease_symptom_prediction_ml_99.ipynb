{
  "cells": [
    {
      "cell_type": "markdown",
      "metadata": {
        "id": "view-in-github",
        "colab_type": "text"
      },
      "source": [
        "<a href=\"https://colab.research.google.com/github/aharikrishnan0810/ML-Hackthon/blob/main/disease_symptom_prediction_ml_99.ipynb\" target=\"_parent\"><img src=\"https://colab.research.google.com/assets/colab-badge.svg\" alt=\"Open In Colab\"/></a>"
      ]
    },
    {
      "cell_type": "code",
      "execution_count": null,
      "id": "8936b86c",
      "metadata": {
        "execution": {
          "iopub.execute_input": "2022-12-30T16:45:05.837681Z",
          "iopub.status.busy": "2022-12-30T16:45:05.837032Z",
          "iopub.status.idle": "2022-12-30T16:45:05.910224Z",
          "shell.execute_reply": "2022-12-30T16:45:05.909221Z"
        },
        "papermill": {
          "duration": 0.092426,
          "end_time": "2022-12-30T16:45:05.913068",
          "exception": false,
          "start_time": "2022-12-30T16:45:05.820642",
          "status": "completed"
        },
        "tags": [],
        "id": "8936b86c"
      },
      "outputs": [],
      "source": [
        "import joblib"
      ]
    },
    {
      "cell_type": "code",
      "execution_count": null,
      "id": "7658c474",
      "metadata": {
        "_cell_guid": "b1076dfc-b9ad-4769-8c92-a6c4dae69d19",
        "_uuid": "8f2839f25d086af736a60e9eeb907d3b93b6e0e5",
        "execution": {
          "iopub.execute_input": "2022-12-30T16:45:05.941229Z",
          "iopub.status.busy": "2022-12-30T16:45:05.940775Z",
          "iopub.status.idle": "2022-12-30T16:45:08.650570Z",
          "shell.execute_reply": "2022-12-30T16:45:08.649456Z"
        },
        "papermill": {
          "duration": 2.727705,
          "end_time": "2022-12-30T16:45:08.653287",
          "exception": false,
          "start_time": "2022-12-30T16:45:05.925582",
          "status": "completed"
        },
        "tags": [],
        "id": "7658c474"
      },
      "outputs": [],
      "source": [
        "import pandas as pd\n",
        "import numpy as np\n",
        "import matplotlib.pyplot as plt\n",
        "from sklearn.model_selection import train_test_split,KFold,cross_val_score,GridSearchCV\n",
        "from sklearn.svm import SVC\n",
        "from sklearn.metrics import f1_score, accuracy_score, confusion_matrix,classification_report,plot_confusion_matrix,plot_roc_curve,precision_score,roc_curve\n",
        "import seaborn as sns\n",
        "from sklearn.utils import shuffle\n",
        "from pandas_profiling import ProfileReport\n",
        "from sklearn.linear_model import LogisticRegression, Perceptron, RidgeClassifier, SGDClassifier\n",
        "from sklearn.ensemble import RandomForestClassifier, GradientBoostingClassifier, ExtraTreesClassifier\n",
        "from sklearn.ensemble import BaggingClassifier, AdaBoostClassifier, VotingClassifier\n",
        "from sklearn.neighbors import KNeighborsClassifier\n",
        "from sklearn.naive_bayes import GaussianNB\n",
        "from sklearn.tree import DecisionTreeClassifier\n",
        "from sklearn import metrics"
      ]
    },
    {
      "cell_type": "markdown",
      "id": "d0fe936b",
      "metadata": {
        "papermill": {
          "duration": 0.012027,
          "end_time": "2022-12-30T16:45:08.678071",
          "exception": false,
          "start_time": "2022-12-30T16:45:08.666044",
          "status": "completed"
        },
        "tags": [],
        "id": "d0fe936b"
      },
      "source": [
        "**Read and shuffle the dataset**"
      ]
    },
    {
      "cell_type": "code",
      "execution_count": null,
      "id": "2ae4f949",
      "metadata": {
        "_cell_guid": "79c7e3d0-c299-4dcb-8224-4455121ee9b0",
        "_uuid": "d629ff2d2480ee46fbb7e2d37f6b5fab8052498a",
        "execution": {
          "iopub.execute_input": "2022-12-30T16:45:08.705220Z",
          "iopub.status.busy": "2022-12-30T16:45:08.704209Z",
          "iopub.status.idle": "2022-12-30T16:45:08.781832Z",
          "shell.execute_reply": "2022-12-30T16:45:08.780602Z"
        },
        "papermill": {
          "duration": 0.094808,
          "end_time": "2022-12-30T16:45:08.785237",
          "exception": false,
          "start_time": "2022-12-30T16:45:08.690429",
          "status": "completed"
        },
        "tags": [],
        "id": "2ae4f949",
        "outputId": "3c99cc27-bfdc-42d2-d26c-a6b1fd3a44b4"
      },
      "outputs": [
        {
          "data": {
            "text/html": [
              "<div>\n",
              "<style scoped>\n",
              "    .dataframe tbody tr th:only-of-type {\n",
              "        vertical-align: middle;\n",
              "    }\n",
              "\n",
              "    .dataframe tbody tr th {\n",
              "        vertical-align: top;\n",
              "    }\n",
              "\n",
              "    .dataframe thead th {\n",
              "        text-align: right;\n",
              "    }\n",
              "</style>\n",
              "<table border=\"1\" class=\"dataframe\">\n",
              "  <thead>\n",
              "    <tr style=\"text-align: right;\">\n",
              "      <th></th>\n",
              "      <th>Disease</th>\n",
              "      <th>Symptom_1</th>\n",
              "      <th>Symptom_2</th>\n",
              "      <th>Symptom_3</th>\n",
              "      <th>Symptom_4</th>\n",
              "      <th>Symptom_5</th>\n",
              "      <th>Symptom_6</th>\n",
              "      <th>Symptom_7</th>\n",
              "      <th>Symptom_8</th>\n",
              "      <th>Symptom_9</th>\n",
              "      <th>Symptom_10</th>\n",
              "      <th>Symptom_11</th>\n",
              "      <th>Symptom_12</th>\n",
              "      <th>Symptom_13</th>\n",
              "      <th>Symptom_14</th>\n",
              "      <th>Symptom_15</th>\n",
              "      <th>Symptom_16</th>\n",
              "      <th>Symptom_17</th>\n",
              "    </tr>\n",
              "  </thead>\n",
              "  <tbody>\n",
              "    <tr>\n",
              "      <th>373</th>\n",
              "      <td>Acne</td>\n",
              "      <td>skin_rash</td>\n",
              "      <td>blackheads</td>\n",
              "      <td>scurring</td>\n",
              "      <td>NaN</td>\n",
              "      <td>NaN</td>\n",
              "      <td>NaN</td>\n",
              "      <td>NaN</td>\n",
              "      <td>NaN</td>\n",
              "      <td>NaN</td>\n",
              "      <td>NaN</td>\n",
              "      <td>NaN</td>\n",
              "      <td>NaN</td>\n",
              "      <td>NaN</td>\n",
              "      <td>NaN</td>\n",
              "      <td>NaN</td>\n",
              "      <td>NaN</td>\n",
              "      <td>NaN</td>\n",
              "    </tr>\n",
              "    <tr>\n",
              "      <th>4916</th>\n",
              "      <td>Acne</td>\n",
              "      <td>skin_rash</td>\n",
              "      <td>pus_filled_pimples</td>\n",
              "      <td>blackheads</td>\n",
              "      <td>scurring</td>\n",
              "      <td>NaN</td>\n",
              "      <td>NaN</td>\n",
              "      <td>NaN</td>\n",
              "      <td>NaN</td>\n",
              "      <td>NaN</td>\n",
              "      <td>NaN</td>\n",
              "      <td>NaN</td>\n",
              "      <td>NaN</td>\n",
              "      <td>NaN</td>\n",
              "      <td>NaN</td>\n",
              "      <td>NaN</td>\n",
              "      <td>NaN</td>\n",
              "      <td>NaN</td>\n",
              "    </tr>\n",
              "    <tr>\n",
              "      <th>1550</th>\n",
              "      <td>Hyperthyroidism</td>\n",
              "      <td>fatigue</td>\n",
              "      <td>mood_swings</td>\n",
              "      <td>weight_loss</td>\n",
              "      <td>restlessness</td>\n",
              "      <td>sweating</td>\n",
              "      <td>diarrhoea</td>\n",
              "      <td>fast_heart_rate</td>\n",
              "      <td>excessive_hunger</td>\n",
              "      <td>muscle_weakness</td>\n",
              "      <td>irritability</td>\n",
              "      <td>abnormal_menstruation</td>\n",
              "      <td>NaN</td>\n",
              "      <td>NaN</td>\n",
              "      <td>NaN</td>\n",
              "      <td>NaN</td>\n",
              "      <td>NaN</td>\n",
              "      <td>NaN</td>\n",
              "    </tr>\n",
              "    <tr>\n",
              "      <th>3081</th>\n",
              "      <td>AIDS</td>\n",
              "      <td>muscle_wasting</td>\n",
              "      <td>patches_in_throat</td>\n",
              "      <td>high_fever</td>\n",
              "      <td>extra_marital_contacts</td>\n",
              "      <td>NaN</td>\n",
              "      <td>NaN</td>\n",
              "      <td>NaN</td>\n",
              "      <td>NaN</td>\n",
              "      <td>NaN</td>\n",
              "      <td>NaN</td>\n",
              "      <td>NaN</td>\n",
              "      <td>NaN</td>\n",
              "      <td>NaN</td>\n",
              "      <td>NaN</td>\n",
              "      <td>NaN</td>\n",
              "      <td>NaN</td>\n",
              "      <td>NaN</td>\n",
              "    </tr>\n",
              "    <tr>\n",
              "      <th>3857</th>\n",
              "      <td>Chronic cholestasis</td>\n",
              "      <td>itching</td>\n",
              "      <td>vomiting</td>\n",
              "      <td>yellowish_skin</td>\n",
              "      <td>nausea</td>\n",
              "      <td>loss_of_appetite</td>\n",
              "      <td>abdominal_pain</td>\n",
              "      <td>yellowing_of_eyes</td>\n",
              "      <td>NaN</td>\n",
              "      <td>NaN</td>\n",
              "      <td>NaN</td>\n",
              "      <td>NaN</td>\n",
              "      <td>NaN</td>\n",
              "      <td>NaN</td>\n",
              "      <td>NaN</td>\n",
              "      <td>NaN</td>\n",
              "      <td>NaN</td>\n",
              "      <td>NaN</td>\n",
              "    </tr>\n",
              "  </tbody>\n",
              "</table>\n",
              "</div>"
            ],
            "text/plain": [
              "                  Disease        Symptom_1            Symptom_2  \\\n",
              "373                  Acne        skin_rash           blackheads   \n",
              "4916                 Acne        skin_rash   pus_filled_pimples   \n",
              "1550      Hyperthyroidism          fatigue          mood_swings   \n",
              "3081                 AIDS   muscle_wasting    patches_in_throat   \n",
              "3857  Chronic cholestasis          itching             vomiting   \n",
              "\n",
              "            Symptom_3                Symptom_4          Symptom_5  \\\n",
              "373          scurring                      NaN                NaN   \n",
              "4916       blackheads                 scurring                NaN   \n",
              "1550      weight_loss             restlessness           sweating   \n",
              "3081       high_fever   extra_marital_contacts                NaN   \n",
              "3857   yellowish_skin                   nausea   loss_of_appetite   \n",
              "\n",
              "            Symptom_6           Symptom_7          Symptom_8  \\\n",
              "373               NaN                 NaN                NaN   \n",
              "4916              NaN                 NaN                NaN   \n",
              "1550        diarrhoea     fast_heart_rate   excessive_hunger   \n",
              "3081              NaN                 NaN                NaN   \n",
              "3857   abdominal_pain   yellowing_of_eyes                NaN   \n",
              "\n",
              "             Symptom_9     Symptom_10              Symptom_11 Symptom_12  \\\n",
              "373                NaN            NaN                     NaN        NaN   \n",
              "4916               NaN            NaN                     NaN        NaN   \n",
              "1550   muscle_weakness   irritability   abnormal_menstruation        NaN   \n",
              "3081               NaN            NaN                     NaN        NaN   \n",
              "3857               NaN            NaN                     NaN        NaN   \n",
              "\n",
              "     Symptom_13 Symptom_14 Symptom_15 Symptom_16 Symptom_17  \n",
              "373         NaN        NaN        NaN        NaN        NaN  \n",
              "4916        NaN        NaN        NaN        NaN        NaN  \n",
              "1550        NaN        NaN        NaN        NaN        NaN  \n",
              "3081        NaN        NaN        NaN        NaN        NaN  \n",
              "3857        NaN        NaN        NaN        NaN        NaN  "
            ]
          },
          "execution_count": 3,
          "metadata": {},
          "output_type": "execute_result"
        }
      ],
      "source": [
        "df = pd.read_csv('/kaggle/input/disease-symptom-description-dataset/dataset.csv')\n",
        "df = shuffle(df,random_state=42)\n",
        "df.head()"
      ]
    },
    {
      "cell_type": "markdown",
      "id": "23ae4e8d",
      "metadata": {
        "papermill": {
          "duration": 0.016928,
          "end_time": "2022-12-30T16:45:08.816629",
          "exception": false,
          "start_time": "2022-12-30T16:45:08.799701",
          "status": "completed"
        },
        "tags": [],
        "id": "23ae4e8d"
      },
      "source": [
        "**Removing Hyphen from strings**"
      ]
    },
    {
      "cell_type": "code",
      "execution_count": null,
      "id": "76d7ce85",
      "metadata": {
        "execution": {
          "iopub.execute_input": "2022-12-30T16:45:08.844124Z",
          "iopub.status.busy": "2022-12-30T16:45:08.843731Z",
          "iopub.status.idle": "2022-12-30T16:45:08.906068Z",
          "shell.execute_reply": "2022-12-30T16:45:08.904805Z"
        },
        "papermill": {
          "duration": 0.078848,
          "end_time": "2022-12-30T16:45:08.908595",
          "exception": false,
          "start_time": "2022-12-30T16:45:08.829747",
          "status": "completed"
        },
        "tags": [],
        "id": "76d7ce85",
        "outputId": "0c5e5784-ef56-454e-f127-5d5b4ecc5c1b"
      },
      "outputs": [
        {
          "data": {
            "text/html": [
              "<div>\n",
              "<style scoped>\n",
              "    .dataframe tbody tr th:only-of-type {\n",
              "        vertical-align: middle;\n",
              "    }\n",
              "\n",
              "    .dataframe tbody tr th {\n",
              "        vertical-align: top;\n",
              "    }\n",
              "\n",
              "    .dataframe thead th {\n",
              "        text-align: right;\n",
              "    }\n",
              "</style>\n",
              "<table border=\"1\" class=\"dataframe\">\n",
              "  <thead>\n",
              "    <tr style=\"text-align: right;\">\n",
              "      <th></th>\n",
              "      <th>Disease</th>\n",
              "      <th>Symptom_1</th>\n",
              "      <th>Symptom_2</th>\n",
              "      <th>Symptom_3</th>\n",
              "      <th>Symptom_4</th>\n",
              "      <th>Symptom_5</th>\n",
              "      <th>Symptom_6</th>\n",
              "      <th>Symptom_7</th>\n",
              "      <th>Symptom_8</th>\n",
              "      <th>Symptom_9</th>\n",
              "      <th>Symptom_10</th>\n",
              "      <th>Symptom_11</th>\n",
              "      <th>Symptom_12</th>\n",
              "      <th>Symptom_13</th>\n",
              "      <th>Symptom_14</th>\n",
              "      <th>Symptom_15</th>\n",
              "      <th>Symptom_16</th>\n",
              "      <th>Symptom_17</th>\n",
              "    </tr>\n",
              "  </thead>\n",
              "  <tbody>\n",
              "    <tr>\n",
              "      <th>373</th>\n",
              "      <td>Acne</td>\n",
              "      <td>skin rash</td>\n",
              "      <td>blackheads</td>\n",
              "      <td>scurring</td>\n",
              "      <td>NaN</td>\n",
              "      <td>NaN</td>\n",
              "      <td>NaN</td>\n",
              "      <td>NaN</td>\n",
              "      <td>NaN</td>\n",
              "      <td>NaN</td>\n",
              "      <td>NaN</td>\n",
              "      <td>NaN</td>\n",
              "      <td>NaN</td>\n",
              "      <td>NaN</td>\n",
              "      <td>NaN</td>\n",
              "      <td>NaN</td>\n",
              "      <td>NaN</td>\n",
              "      <td>NaN</td>\n",
              "    </tr>\n",
              "    <tr>\n",
              "      <th>4916</th>\n",
              "      <td>Acne</td>\n",
              "      <td>skin rash</td>\n",
              "      <td>pus filled pimples</td>\n",
              "      <td>blackheads</td>\n",
              "      <td>scurring</td>\n",
              "      <td>NaN</td>\n",
              "      <td>NaN</td>\n",
              "      <td>NaN</td>\n",
              "      <td>NaN</td>\n",
              "      <td>NaN</td>\n",
              "      <td>NaN</td>\n",
              "      <td>NaN</td>\n",
              "      <td>NaN</td>\n",
              "      <td>NaN</td>\n",
              "      <td>NaN</td>\n",
              "      <td>NaN</td>\n",
              "      <td>NaN</td>\n",
              "      <td>NaN</td>\n",
              "    </tr>\n",
              "    <tr>\n",
              "      <th>1550</th>\n",
              "      <td>Hyperthyroidism</td>\n",
              "      <td>fatigue</td>\n",
              "      <td>mood swings</td>\n",
              "      <td>weight loss</td>\n",
              "      <td>restlessness</td>\n",
              "      <td>sweating</td>\n",
              "      <td>diarrhoea</td>\n",
              "      <td>fast heart rate</td>\n",
              "      <td>excessive hunger</td>\n",
              "      <td>muscle weakness</td>\n",
              "      <td>irritability</td>\n",
              "      <td>abnormal menstruation</td>\n",
              "      <td>NaN</td>\n",
              "      <td>NaN</td>\n",
              "      <td>NaN</td>\n",
              "      <td>NaN</td>\n",
              "      <td>NaN</td>\n",
              "      <td>NaN</td>\n",
              "    </tr>\n",
              "    <tr>\n",
              "      <th>3081</th>\n",
              "      <td>AIDS</td>\n",
              "      <td>muscle wasting</td>\n",
              "      <td>patches in throat</td>\n",
              "      <td>high fever</td>\n",
              "      <td>extra marital contacts</td>\n",
              "      <td>NaN</td>\n",
              "      <td>NaN</td>\n",
              "      <td>NaN</td>\n",
              "      <td>NaN</td>\n",
              "      <td>NaN</td>\n",
              "      <td>NaN</td>\n",
              "      <td>NaN</td>\n",
              "      <td>NaN</td>\n",
              "      <td>NaN</td>\n",
              "      <td>NaN</td>\n",
              "      <td>NaN</td>\n",
              "      <td>NaN</td>\n",
              "      <td>NaN</td>\n",
              "    </tr>\n",
              "    <tr>\n",
              "      <th>3857</th>\n",
              "      <td>Chronic cholestasis</td>\n",
              "      <td>itching</td>\n",
              "      <td>vomiting</td>\n",
              "      <td>yellowish skin</td>\n",
              "      <td>nausea</td>\n",
              "      <td>loss of appetite</td>\n",
              "      <td>abdominal pain</td>\n",
              "      <td>yellowing of eyes</td>\n",
              "      <td>NaN</td>\n",
              "      <td>NaN</td>\n",
              "      <td>NaN</td>\n",
              "      <td>NaN</td>\n",
              "      <td>NaN</td>\n",
              "      <td>NaN</td>\n",
              "      <td>NaN</td>\n",
              "      <td>NaN</td>\n",
              "      <td>NaN</td>\n",
              "      <td>NaN</td>\n",
              "    </tr>\n",
              "  </tbody>\n",
              "</table>\n",
              "</div>"
            ],
            "text/plain": [
              "                  Disease        Symptom_1            Symptom_2  \\\n",
              "373                  Acne        skin rash           blackheads   \n",
              "4916                 Acne        skin rash   pus filled pimples   \n",
              "1550      Hyperthyroidism          fatigue          mood swings   \n",
              "3081                 AIDS   muscle wasting    patches in throat   \n",
              "3857  Chronic cholestasis          itching             vomiting   \n",
              "\n",
              "            Symptom_3                Symptom_4          Symptom_5  \\\n",
              "373          scurring                      NaN                NaN   \n",
              "4916       blackheads                 scurring                NaN   \n",
              "1550      weight loss             restlessness           sweating   \n",
              "3081       high fever   extra marital contacts                NaN   \n",
              "3857   yellowish skin                   nausea   loss of appetite   \n",
              "\n",
              "            Symptom_6           Symptom_7          Symptom_8  \\\n",
              "373               NaN                 NaN                NaN   \n",
              "4916              NaN                 NaN                NaN   \n",
              "1550        diarrhoea     fast heart rate   excessive hunger   \n",
              "3081              NaN                 NaN                NaN   \n",
              "3857   abdominal pain   yellowing of eyes                NaN   \n",
              "\n",
              "             Symptom_9     Symptom_10              Symptom_11 Symptom_12  \\\n",
              "373                NaN            NaN                     NaN        NaN   \n",
              "4916               NaN            NaN                     NaN        NaN   \n",
              "1550   muscle weakness   irritability   abnormal menstruation        NaN   \n",
              "3081               NaN            NaN                     NaN        NaN   \n",
              "3857               NaN            NaN                     NaN        NaN   \n",
              "\n",
              "     Symptom_13 Symptom_14 Symptom_15 Symptom_16 Symptom_17  \n",
              "373         NaN        NaN        NaN        NaN        NaN  \n",
              "4916        NaN        NaN        NaN        NaN        NaN  \n",
              "1550        NaN        NaN        NaN        NaN        NaN  \n",
              "3081        NaN        NaN        NaN        NaN        NaN  \n",
              "3857        NaN        NaN        NaN        NaN        NaN  "
            ]
          },
          "execution_count": 4,
          "metadata": {},
          "output_type": "execute_result"
        }
      ],
      "source": [
        "for col in df.columns:\n",
        "\n",
        "    df[col] = df[col].str.replace('_',' ')\n",
        "df.head()"
      ]
    },
    {
      "cell_type": "markdown",
      "id": "80940d18",
      "metadata": {
        "papermill": {
          "duration": 0.013341,
          "end_time": "2022-12-30T16:45:08.935282",
          "exception": false,
          "start_time": "2022-12-30T16:45:08.921941",
          "status": "completed"
        },
        "tags": [],
        "id": "80940d18"
      },
      "source": [
        "**Dataset characteristics**"
      ]
    },
    {
      "cell_type": "code",
      "execution_count": null,
      "id": "825e4222",
      "metadata": {
        "execution": {
          "iopub.execute_input": "2022-12-30T16:45:08.962890Z",
          "iopub.status.busy": "2022-12-30T16:45:08.962443Z",
          "iopub.status.idle": "2022-12-30T16:45:09.021175Z",
          "shell.execute_reply": "2022-12-30T16:45:09.019764Z"
        },
        "papermill": {
          "duration": 0.07555,
          "end_time": "2022-12-30T16:45:09.023776",
          "exception": false,
          "start_time": "2022-12-30T16:45:08.948226",
          "status": "completed"
        },
        "tags": [],
        "id": "825e4222",
        "outputId": "2c661b27-387a-488a-a4e4-fd73c50b01ed"
      },
      "outputs": [
        {
          "data": {
            "text/html": [
              "<div>\n",
              "<style scoped>\n",
              "    .dataframe tbody tr th:only-of-type {\n",
              "        vertical-align: middle;\n",
              "    }\n",
              "\n",
              "    .dataframe tbody tr th {\n",
              "        vertical-align: top;\n",
              "    }\n",
              "\n",
              "    .dataframe thead th {\n",
              "        text-align: right;\n",
              "    }\n",
              "</style>\n",
              "<table border=\"1\" class=\"dataframe\">\n",
              "  <thead>\n",
              "    <tr style=\"text-align: right;\">\n",
              "      <th></th>\n",
              "      <th>Disease</th>\n",
              "      <th>Symptom_1</th>\n",
              "      <th>Symptom_2</th>\n",
              "      <th>Symptom_3</th>\n",
              "      <th>Symptom_4</th>\n",
              "      <th>Symptom_5</th>\n",
              "      <th>Symptom_6</th>\n",
              "      <th>Symptom_7</th>\n",
              "      <th>Symptom_8</th>\n",
              "      <th>Symptom_9</th>\n",
              "      <th>Symptom_10</th>\n",
              "      <th>Symptom_11</th>\n",
              "      <th>Symptom_12</th>\n",
              "      <th>Symptom_13</th>\n",
              "      <th>Symptom_14</th>\n",
              "      <th>Symptom_15</th>\n",
              "      <th>Symptom_16</th>\n",
              "      <th>Symptom_17</th>\n",
              "    </tr>\n",
              "  </thead>\n",
              "  <tbody>\n",
              "    <tr>\n",
              "      <th>count</th>\n",
              "      <td>4920</td>\n",
              "      <td>4920</td>\n",
              "      <td>4920</td>\n",
              "      <td>4920</td>\n",
              "      <td>4572</td>\n",
              "      <td>3714</td>\n",
              "      <td>2934</td>\n",
              "      <td>2268</td>\n",
              "      <td>1944</td>\n",
              "      <td>1692</td>\n",
              "      <td>1512</td>\n",
              "      <td>1194</td>\n",
              "      <td>744</td>\n",
              "      <td>504</td>\n",
              "      <td>306</td>\n",
              "      <td>240</td>\n",
              "      <td>192</td>\n",
              "      <td>72</td>\n",
              "    </tr>\n",
              "    <tr>\n",
              "      <th>unique</th>\n",
              "      <td>41</td>\n",
              "      <td>34</td>\n",
              "      <td>48</td>\n",
              "      <td>54</td>\n",
              "      <td>50</td>\n",
              "      <td>38</td>\n",
              "      <td>32</td>\n",
              "      <td>26</td>\n",
              "      <td>21</td>\n",
              "      <td>22</td>\n",
              "      <td>21</td>\n",
              "      <td>18</td>\n",
              "      <td>11</td>\n",
              "      <td>8</td>\n",
              "      <td>4</td>\n",
              "      <td>3</td>\n",
              "      <td>3</td>\n",
              "      <td>1</td>\n",
              "    </tr>\n",
              "    <tr>\n",
              "      <th>top</th>\n",
              "      <td>Acne</td>\n",
              "      <td>vomiting</td>\n",
              "      <td>vomiting</td>\n",
              "      <td>fatigue</td>\n",
              "      <td>high fever</td>\n",
              "      <td>headache</td>\n",
              "      <td>nausea</td>\n",
              "      <td>abdominal pain</td>\n",
              "      <td>abdominal pain</td>\n",
              "      <td>yellowing of eyes</td>\n",
              "      <td>yellowing of eyes</td>\n",
              "      <td>irritability</td>\n",
              "      <td>malaise</td>\n",
              "      <td>stomach bleeding</td>\n",
              "      <td>chest pain</td>\n",
              "      <td>chest pain</td>\n",
              "      <td>loss of smell</td>\n",
              "      <td>muscle pain</td>\n",
              "    </tr>\n",
              "    <tr>\n",
              "      <th>freq</th>\n",
              "      <td>120</td>\n",
              "      <td>822</td>\n",
              "      <td>870</td>\n",
              "      <td>726</td>\n",
              "      <td>378</td>\n",
              "      <td>348</td>\n",
              "      <td>390</td>\n",
              "      <td>264</td>\n",
              "      <td>276</td>\n",
              "      <td>228</td>\n",
              "      <td>198</td>\n",
              "      <td>120</td>\n",
              "      <td>126</td>\n",
              "      <td>72</td>\n",
              "      <td>96</td>\n",
              "      <td>144</td>\n",
              "      <td>72</td>\n",
              "      <td>72</td>\n",
              "    </tr>\n",
              "  </tbody>\n",
              "</table>\n",
              "</div>"
            ],
            "text/plain": [
              "       Disease  Symptom_1  Symptom_2 Symptom_3    Symptom_4  Symptom_5  \\\n",
              "count     4920       4920       4920      4920         4572       3714   \n",
              "unique      41         34         48        54           50         38   \n",
              "top       Acne   vomiting   vomiting   fatigue   high fever   headache   \n",
              "freq       120        822        870       726          378        348   \n",
              "\n",
              "       Symptom_6        Symptom_7        Symptom_8           Symptom_9  \\\n",
              "count       2934             2268             1944                1692   \n",
              "unique        32               26               21                  22   \n",
              "top       nausea   abdominal pain   abdominal pain   yellowing of eyes   \n",
              "freq         390              264              276                 228   \n",
              "\n",
              "                Symptom_10     Symptom_11 Symptom_12         Symptom_13  \\\n",
              "count                 1512           1194        744                504   \n",
              "unique                  21             18         11                  8   \n",
              "top      yellowing of eyes   irritability    malaise   stomach bleeding   \n",
              "freq                   198            120        126                 72   \n",
              "\n",
              "         Symptom_14   Symptom_15      Symptom_16    Symptom_17  \n",
              "count           306          240             192            72  \n",
              "unique            4            3               3             1  \n",
              "top      chest pain   chest pain   loss of smell   muscle pain  \n",
              "freq             96          144              72            72  "
            ]
          },
          "execution_count": 5,
          "metadata": {},
          "output_type": "execute_result"
        }
      ],
      "source": [
        "df.describe()"
      ]
    },
    {
      "cell_type": "markdown",
      "id": "b8657eac",
      "metadata": {
        "papermill": {
          "duration": 0.013251,
          "end_time": "2022-12-30T16:45:09.050421",
          "exception": false,
          "start_time": "2022-12-30T16:45:09.037170",
          "status": "completed"
        },
        "tags": [],
        "id": "b8657eac"
      },
      "source": [
        "**Check for null and NaN values**"
      ]
    },
    {
      "cell_type": "code",
      "execution_count": null,
      "id": "1d4e4e38",
      "metadata": {
        "execution": {
          "iopub.execute_input": "2022-12-30T16:45:09.078796Z",
          "iopub.status.busy": "2022-12-30T16:45:09.078330Z",
          "iopub.status.idle": "2022-12-30T16:45:09.102822Z",
          "shell.execute_reply": "2022-12-30T16:45:09.101623Z"
        },
        "papermill": {
          "duration": 0.041748,
          "end_time": "2022-12-30T16:45:09.105342",
          "exception": false,
          "start_time": "2022-12-30T16:45:09.063594",
          "status": "completed"
        },
        "tags": [],
        "id": "1d4e4e38",
        "outputId": "def52459-7b77-4a61-a521-8525a6c940e4"
      },
      "outputs": [
        {
          "name": "stdout",
          "output_type": "stream",
          "text": [
            "            count\n",
            "Disease         0\n",
            "Symptom_1       0\n",
            "Symptom_2       0\n",
            "Symptom_3       0\n",
            "Symptom_4     348\n",
            "Symptom_5    1206\n",
            "Symptom_6    1986\n",
            "Symptom_7    2652\n",
            "Symptom_8    2976\n",
            "Symptom_9    3228\n",
            "Symptom_10   3408\n",
            "Symptom_11   3726\n",
            "Symptom_12   4176\n",
            "Symptom_13   4416\n",
            "Symptom_14   4614\n",
            "Symptom_15   4680\n",
            "Symptom_16   4728\n",
            "Symptom_17   4848\n"
          ]
        }
      ],
      "source": [
        "null_checker = df.apply(lambda x: sum(x.isnull())).to_frame(name='count')\n",
        "print(null_checker)"
      ]
    },
    {
      "cell_type": "code",
      "execution_count": null,
      "id": "ff2cd109",
      "metadata": {
        "execution": {
          "iopub.execute_input": "2022-12-30T16:45:09.135289Z",
          "iopub.status.busy": "2022-12-30T16:45:09.134877Z",
          "iopub.status.idle": "2022-12-30T16:45:09.403917Z",
          "shell.execute_reply": "2022-12-30T16:45:09.402588Z"
        },
        "papermill": {
          "duration": 0.287722,
          "end_time": "2022-12-30T16:45:09.407448",
          "exception": false,
          "start_time": "2022-12-30T16:45:09.119726",
          "status": "completed"
        },
        "tags": [],
        "id": "ff2cd109"
      },
      "outputs": [],
      "source": [
        "plt.figure(figsize=(10,5))\n",
        "plt.plot(null_checker.index, null_checker['count'])\n",
        "plt.xticks(null_checker.index, null_checker.index, rotation=45,\n",
        "horizontalalignment='right')\n",
        "plt.title('Before removing Null values')\n",
        "plt.xlabel('column names')\n",
        "plt.margins(0.1)\n",
        "plt.show()"
      ]
    },
    {
      "cell_type": "markdown",
      "id": "3ff2fc74",
      "metadata": {
        "papermill": {
          "duration": 0.02106,
          "end_time": "2022-12-30T16:45:09.450317",
          "exception": false,
          "start_time": "2022-12-30T16:45:09.429257",
          "status": "completed"
        },
        "tags": [],
        "id": "3ff2fc74"
      },
      "source": [
        "**Remove the trailing space from the symptom columns**"
      ]
    },
    {
      "cell_type": "code",
      "execution_count": null,
      "id": "f4333bc8",
      "metadata": {
        "execution": {
          "iopub.execute_input": "2022-12-30T16:45:09.495107Z",
          "iopub.status.busy": "2022-12-30T16:45:09.494366Z",
          "iopub.status.idle": "2022-12-30T16:45:09.548098Z",
          "shell.execute_reply": "2022-12-30T16:45:09.547161Z"
        },
        "papermill": {
          "duration": 0.078942,
          "end_time": "2022-12-30T16:45:09.550585",
          "exception": false,
          "start_time": "2022-12-30T16:45:09.471643",
          "status": "completed"
        },
        "tags": [],
        "id": "f4333bc8",
        "outputId": "00cb97b1-d2fb-4f6e-f5c0-180a8e2f39aa"
      },
      "outputs": [
        {
          "data": {
            "text/html": [
              "<div>\n",
              "<style scoped>\n",
              "    .dataframe tbody tr th:only-of-type {\n",
              "        vertical-align: middle;\n",
              "    }\n",
              "\n",
              "    .dataframe tbody tr th {\n",
              "        vertical-align: top;\n",
              "    }\n",
              "\n",
              "    .dataframe thead th {\n",
              "        text-align: right;\n",
              "    }\n",
              "</style>\n",
              "<table border=\"1\" class=\"dataframe\">\n",
              "  <thead>\n",
              "    <tr style=\"text-align: right;\">\n",
              "      <th></th>\n",
              "      <th>Disease</th>\n",
              "      <th>Symptom_1</th>\n",
              "      <th>Symptom_2</th>\n",
              "      <th>Symptom_3</th>\n",
              "      <th>Symptom_4</th>\n",
              "      <th>Symptom_5</th>\n",
              "      <th>Symptom_6</th>\n",
              "      <th>Symptom_7</th>\n",
              "      <th>Symptom_8</th>\n",
              "      <th>Symptom_9</th>\n",
              "      <th>Symptom_10</th>\n",
              "      <th>Symptom_11</th>\n",
              "      <th>Symptom_12</th>\n",
              "      <th>Symptom_13</th>\n",
              "      <th>Symptom_14</th>\n",
              "      <th>Symptom_15</th>\n",
              "      <th>Symptom_16</th>\n",
              "      <th>Symptom_17</th>\n",
              "    </tr>\n",
              "  </thead>\n",
              "  <tbody>\n",
              "    <tr>\n",
              "      <th>0</th>\n",
              "      <td>Acne</td>\n",
              "      <td>skin rash</td>\n",
              "      <td>blackheads</td>\n",
              "      <td>scurring</td>\n",
              "      <td>NaN</td>\n",
              "      <td>NaN</td>\n",
              "      <td>NaN</td>\n",
              "      <td>NaN</td>\n",
              "      <td>NaN</td>\n",
              "      <td>NaN</td>\n",
              "      <td>NaN</td>\n",
              "      <td>NaN</td>\n",
              "      <td>NaN</td>\n",
              "      <td>NaN</td>\n",
              "      <td>NaN</td>\n",
              "      <td>NaN</td>\n",
              "      <td>NaN</td>\n",
              "      <td>NaN</td>\n",
              "    </tr>\n",
              "    <tr>\n",
              "      <th>1</th>\n",
              "      <td>Acne</td>\n",
              "      <td>skin rash</td>\n",
              "      <td>pus filled pimples</td>\n",
              "      <td>blackheads</td>\n",
              "      <td>scurring</td>\n",
              "      <td>NaN</td>\n",
              "      <td>NaN</td>\n",
              "      <td>NaN</td>\n",
              "      <td>NaN</td>\n",
              "      <td>NaN</td>\n",
              "      <td>NaN</td>\n",
              "      <td>NaN</td>\n",
              "      <td>NaN</td>\n",
              "      <td>NaN</td>\n",
              "      <td>NaN</td>\n",
              "      <td>NaN</td>\n",
              "      <td>NaN</td>\n",
              "      <td>NaN</td>\n",
              "    </tr>\n",
              "    <tr>\n",
              "      <th>2</th>\n",
              "      <td>Hyperthyroidism</td>\n",
              "      <td>fatigue</td>\n",
              "      <td>mood swings</td>\n",
              "      <td>weight loss</td>\n",
              "      <td>restlessness</td>\n",
              "      <td>sweating</td>\n",
              "      <td>diarrhoea</td>\n",
              "      <td>fast heart rate</td>\n",
              "      <td>excessive hunger</td>\n",
              "      <td>muscle weakness</td>\n",
              "      <td>irritability</td>\n",
              "      <td>abnormal menstruation</td>\n",
              "      <td>NaN</td>\n",
              "      <td>NaN</td>\n",
              "      <td>NaN</td>\n",
              "      <td>NaN</td>\n",
              "      <td>NaN</td>\n",
              "      <td>NaN</td>\n",
              "    </tr>\n",
              "    <tr>\n",
              "      <th>3</th>\n",
              "      <td>AIDS</td>\n",
              "      <td>muscle wasting</td>\n",
              "      <td>patches in throat</td>\n",
              "      <td>high fever</td>\n",
              "      <td>extra marital contacts</td>\n",
              "      <td>NaN</td>\n",
              "      <td>NaN</td>\n",
              "      <td>NaN</td>\n",
              "      <td>NaN</td>\n",
              "      <td>NaN</td>\n",
              "      <td>NaN</td>\n",
              "      <td>NaN</td>\n",
              "      <td>NaN</td>\n",
              "      <td>NaN</td>\n",
              "      <td>NaN</td>\n",
              "      <td>NaN</td>\n",
              "      <td>NaN</td>\n",
              "      <td>NaN</td>\n",
              "    </tr>\n",
              "    <tr>\n",
              "      <th>4</th>\n",
              "      <td>Chronic cholestasis</td>\n",
              "      <td>itching</td>\n",
              "      <td>vomiting</td>\n",
              "      <td>yellowish skin</td>\n",
              "      <td>nausea</td>\n",
              "      <td>loss of appetite</td>\n",
              "      <td>abdominal pain</td>\n",
              "      <td>yellowing of eyes</td>\n",
              "      <td>NaN</td>\n",
              "      <td>NaN</td>\n",
              "      <td>NaN</td>\n",
              "      <td>NaN</td>\n",
              "      <td>NaN</td>\n",
              "      <td>NaN</td>\n",
              "      <td>NaN</td>\n",
              "      <td>NaN</td>\n",
              "      <td>NaN</td>\n",
              "      <td>NaN</td>\n",
              "    </tr>\n",
              "  </tbody>\n",
              "</table>\n",
              "</div>"
            ],
            "text/plain": [
              "               Disease       Symptom_1           Symptom_2       Symptom_3  \\\n",
              "0                 Acne       skin rash          blackheads        scurring   \n",
              "1                 Acne       skin rash  pus filled pimples      blackheads   \n",
              "2      Hyperthyroidism         fatigue         mood swings     weight loss   \n",
              "3                 AIDS  muscle wasting   patches in throat      high fever   \n",
              "4  Chronic cholestasis         itching            vomiting  yellowish skin   \n",
              "\n",
              "                Symptom_4         Symptom_5       Symptom_6  \\\n",
              "0                     NaN               NaN             NaN   \n",
              "1                scurring               NaN             NaN   \n",
              "2            restlessness          sweating       diarrhoea   \n",
              "3  extra marital contacts               NaN             NaN   \n",
              "4                  nausea  loss of appetite  abdominal pain   \n",
              "\n",
              "           Symptom_7         Symptom_8        Symptom_9    Symptom_10  \\\n",
              "0                NaN               NaN              NaN           NaN   \n",
              "1                NaN               NaN              NaN           NaN   \n",
              "2    fast heart rate  excessive hunger  muscle weakness  irritability   \n",
              "3                NaN               NaN              NaN           NaN   \n",
              "4  yellowing of eyes               NaN              NaN           NaN   \n",
              "\n",
              "              Symptom_11 Symptom_12 Symptom_13 Symptom_14 Symptom_15  \\\n",
              "0                    NaN        NaN        NaN        NaN        NaN   \n",
              "1                    NaN        NaN        NaN        NaN        NaN   \n",
              "2  abnormal menstruation        NaN        NaN        NaN        NaN   \n",
              "3                    NaN        NaN        NaN        NaN        NaN   \n",
              "4                    NaN        NaN        NaN        NaN        NaN   \n",
              "\n",
              "  Symptom_16 Symptom_17  \n",
              "0        NaN        NaN  \n",
              "1        NaN        NaN  \n",
              "2        NaN        NaN  \n",
              "3        NaN        NaN  \n",
              "4        NaN        NaN  "
            ]
          },
          "execution_count": 8,
          "metadata": {},
          "output_type": "execute_result"
        }
      ],
      "source": [
        "cols = df.columns\n",
        "data = df[cols].values.flatten()\n",
        "\n",
        "s = pd.Series(data)\n",
        "s = s.str.strip()\n",
        "s = s.values.reshape(df.shape)\n",
        "\n",
        "df = pd.DataFrame(s, columns=df.columns)\n",
        "df.head()"
      ]
    },
    {
      "cell_type": "markdown",
      "id": "c2d02586",
      "metadata": {
        "papermill": {
          "duration": 0.013173,
          "end_time": "2022-12-30T16:45:09.577214",
          "exception": false,
          "start_time": "2022-12-30T16:45:09.564041",
          "status": "completed"
        },
        "tags": [],
        "id": "c2d02586"
      },
      "source": [
        "**Fill the NaN values with zero**"
      ]
    },
    {
      "cell_type": "code",
      "execution_count": null,
      "id": "75d02c73",
      "metadata": {
        "execution": {
          "iopub.execute_input": "2022-12-30T16:45:09.606408Z",
          "iopub.status.busy": "2022-12-30T16:45:09.605604Z",
          "iopub.status.idle": "2022-12-30T16:45:09.634187Z",
          "shell.execute_reply": "2022-12-30T16:45:09.632893Z"
        },
        "papermill": {
          "duration": 0.046062,
          "end_time": "2022-12-30T16:45:09.636682",
          "exception": false,
          "start_time": "2022-12-30T16:45:09.590620",
          "status": "completed"
        },
        "tags": [],
        "id": "75d02c73",
        "outputId": "2f47a925-dee2-4a1b-d0ba-79a164493438"
      },
      "outputs": [
        {
          "data": {
            "text/html": [
              "<div>\n",
              "<style scoped>\n",
              "    .dataframe tbody tr th:only-of-type {\n",
              "        vertical-align: middle;\n",
              "    }\n",
              "\n",
              "    .dataframe tbody tr th {\n",
              "        vertical-align: top;\n",
              "    }\n",
              "\n",
              "    .dataframe thead th {\n",
              "        text-align: right;\n",
              "    }\n",
              "</style>\n",
              "<table border=\"1\" class=\"dataframe\">\n",
              "  <thead>\n",
              "    <tr style=\"text-align: right;\">\n",
              "      <th></th>\n",
              "      <th>Disease</th>\n",
              "      <th>Symptom_1</th>\n",
              "      <th>Symptom_2</th>\n",
              "      <th>Symptom_3</th>\n",
              "      <th>Symptom_4</th>\n",
              "      <th>Symptom_5</th>\n",
              "      <th>Symptom_6</th>\n",
              "      <th>Symptom_7</th>\n",
              "      <th>Symptom_8</th>\n",
              "      <th>Symptom_9</th>\n",
              "      <th>Symptom_10</th>\n",
              "      <th>Symptom_11</th>\n",
              "      <th>Symptom_12</th>\n",
              "      <th>Symptom_13</th>\n",
              "      <th>Symptom_14</th>\n",
              "      <th>Symptom_15</th>\n",
              "      <th>Symptom_16</th>\n",
              "      <th>Symptom_17</th>\n",
              "    </tr>\n",
              "  </thead>\n",
              "  <tbody>\n",
              "    <tr>\n",
              "      <th>0</th>\n",
              "      <td>Acne</td>\n",
              "      <td>skin rash</td>\n",
              "      <td>blackheads</td>\n",
              "      <td>scurring</td>\n",
              "      <td>0</td>\n",
              "      <td>0</td>\n",
              "      <td>0</td>\n",
              "      <td>0</td>\n",
              "      <td>0</td>\n",
              "      <td>0</td>\n",
              "      <td>0</td>\n",
              "      <td>0</td>\n",
              "      <td>0</td>\n",
              "      <td>0</td>\n",
              "      <td>0</td>\n",
              "      <td>0</td>\n",
              "      <td>0</td>\n",
              "      <td>0</td>\n",
              "    </tr>\n",
              "    <tr>\n",
              "      <th>1</th>\n",
              "      <td>Acne</td>\n",
              "      <td>skin rash</td>\n",
              "      <td>pus filled pimples</td>\n",
              "      <td>blackheads</td>\n",
              "      <td>scurring</td>\n",
              "      <td>0</td>\n",
              "      <td>0</td>\n",
              "      <td>0</td>\n",
              "      <td>0</td>\n",
              "      <td>0</td>\n",
              "      <td>0</td>\n",
              "      <td>0</td>\n",
              "      <td>0</td>\n",
              "      <td>0</td>\n",
              "      <td>0</td>\n",
              "      <td>0</td>\n",
              "      <td>0</td>\n",
              "      <td>0</td>\n",
              "    </tr>\n",
              "    <tr>\n",
              "      <th>2</th>\n",
              "      <td>Hyperthyroidism</td>\n",
              "      <td>fatigue</td>\n",
              "      <td>mood swings</td>\n",
              "      <td>weight loss</td>\n",
              "      <td>restlessness</td>\n",
              "      <td>sweating</td>\n",
              "      <td>diarrhoea</td>\n",
              "      <td>fast heart rate</td>\n",
              "      <td>excessive hunger</td>\n",
              "      <td>muscle weakness</td>\n",
              "      <td>irritability</td>\n",
              "      <td>abnormal menstruation</td>\n",
              "      <td>0</td>\n",
              "      <td>0</td>\n",
              "      <td>0</td>\n",
              "      <td>0</td>\n",
              "      <td>0</td>\n",
              "      <td>0</td>\n",
              "    </tr>\n",
              "    <tr>\n",
              "      <th>3</th>\n",
              "      <td>AIDS</td>\n",
              "      <td>muscle wasting</td>\n",
              "      <td>patches in throat</td>\n",
              "      <td>high fever</td>\n",
              "      <td>extra marital contacts</td>\n",
              "      <td>0</td>\n",
              "      <td>0</td>\n",
              "      <td>0</td>\n",
              "      <td>0</td>\n",
              "      <td>0</td>\n",
              "      <td>0</td>\n",
              "      <td>0</td>\n",
              "      <td>0</td>\n",
              "      <td>0</td>\n",
              "      <td>0</td>\n",
              "      <td>0</td>\n",
              "      <td>0</td>\n",
              "      <td>0</td>\n",
              "    </tr>\n",
              "    <tr>\n",
              "      <th>4</th>\n",
              "      <td>Chronic cholestasis</td>\n",
              "      <td>itching</td>\n",
              "      <td>vomiting</td>\n",
              "      <td>yellowish skin</td>\n",
              "      <td>nausea</td>\n",
              "      <td>loss of appetite</td>\n",
              "      <td>abdominal pain</td>\n",
              "      <td>yellowing of eyes</td>\n",
              "      <td>0</td>\n",
              "      <td>0</td>\n",
              "      <td>0</td>\n",
              "      <td>0</td>\n",
              "      <td>0</td>\n",
              "      <td>0</td>\n",
              "      <td>0</td>\n",
              "      <td>0</td>\n",
              "      <td>0</td>\n",
              "      <td>0</td>\n",
              "    </tr>\n",
              "  </tbody>\n",
              "</table>\n",
              "</div>"
            ],
            "text/plain": [
              "               Disease       Symptom_1           Symptom_2       Symptom_3  \\\n",
              "0                 Acne       skin rash          blackheads        scurring   \n",
              "1                 Acne       skin rash  pus filled pimples      blackheads   \n",
              "2      Hyperthyroidism         fatigue         mood swings     weight loss   \n",
              "3                 AIDS  muscle wasting   patches in throat      high fever   \n",
              "4  Chronic cholestasis         itching            vomiting  yellowish skin   \n",
              "\n",
              "                Symptom_4         Symptom_5       Symptom_6  \\\n",
              "0                       0                 0               0   \n",
              "1                scurring                 0               0   \n",
              "2            restlessness          sweating       diarrhoea   \n",
              "3  extra marital contacts                 0               0   \n",
              "4                  nausea  loss of appetite  abdominal pain   \n",
              "\n",
              "           Symptom_7         Symptom_8        Symptom_9    Symptom_10  \\\n",
              "0                  0                 0                0             0   \n",
              "1                  0                 0                0             0   \n",
              "2    fast heart rate  excessive hunger  muscle weakness  irritability   \n",
              "3                  0                 0                0             0   \n",
              "4  yellowing of eyes                 0                0             0   \n",
              "\n",
              "              Symptom_11 Symptom_12 Symptom_13 Symptom_14 Symptom_15  \\\n",
              "0                      0          0          0          0          0   \n",
              "1                      0          0          0          0          0   \n",
              "2  abnormal menstruation          0          0          0          0   \n",
              "3                      0          0          0          0          0   \n",
              "4                      0          0          0          0          0   \n",
              "\n",
              "  Symptom_16 Symptom_17  \n",
              "0          0          0  \n",
              "1          0          0  \n",
              "2          0          0  \n",
              "3          0          0  \n",
              "4          0          0  "
            ]
          },
          "execution_count": 9,
          "metadata": {},
          "output_type": "execute_result"
        }
      ],
      "source": [
        "df = df.fillna(0)\n",
        "df.head()"
      ]
    },
    {
      "cell_type": "markdown",
      "id": "264d38fa",
      "metadata": {
        "papermill": {
          "duration": 0.013723,
          "end_time": "2022-12-30T16:45:09.664293",
          "exception": false,
          "start_time": "2022-12-30T16:45:09.650570",
          "status": "completed"
        },
        "tags": [],
        "id": "264d38fa"
      },
      "source": [
        "**Symptom severity rank**"
      ]
    },
    {
      "cell_type": "code",
      "execution_count": null,
      "id": "1e5ca695",
      "metadata": {
        "execution": {
          "iopub.execute_input": "2022-12-30T16:45:09.694053Z",
          "iopub.status.busy": "2022-12-30T16:45:09.693277Z",
          "iopub.status.idle": "2022-12-30T16:45:09.712510Z",
          "shell.execute_reply": "2022-12-30T16:45:09.711365Z"
        },
        "papermill": {
          "duration": 0.036804,
          "end_time": "2022-12-30T16:45:09.714864",
          "exception": false,
          "start_time": "2022-12-30T16:45:09.678060",
          "status": "completed"
        },
        "tags": [],
        "id": "1e5ca695",
        "outputId": "ed5b6269-38e4-407a-cb9e-e7280bd5f9e7"
      },
      "outputs": [
        {
          "data": {
            "text/html": [
              "<div>\n",
              "<style scoped>\n",
              "    .dataframe tbody tr th:only-of-type {\n",
              "        vertical-align: middle;\n",
              "    }\n",
              "\n",
              "    .dataframe tbody tr th {\n",
              "        vertical-align: top;\n",
              "    }\n",
              "\n",
              "    .dataframe thead th {\n",
              "        text-align: right;\n",
              "    }\n",
              "</style>\n",
              "<table border=\"1\" class=\"dataframe\">\n",
              "  <thead>\n",
              "    <tr style=\"text-align: right;\">\n",
              "      <th></th>\n",
              "      <th>Symptom</th>\n",
              "      <th>weight</th>\n",
              "    </tr>\n",
              "  </thead>\n",
              "  <tbody>\n",
              "    <tr>\n",
              "      <th>0</th>\n",
              "      <td>itching</td>\n",
              "      <td>1</td>\n",
              "    </tr>\n",
              "    <tr>\n",
              "      <th>1</th>\n",
              "      <td>skin rash</td>\n",
              "      <td>3</td>\n",
              "    </tr>\n",
              "    <tr>\n",
              "      <th>2</th>\n",
              "      <td>nodal skin eruptions</td>\n",
              "      <td>4</td>\n",
              "    </tr>\n",
              "    <tr>\n",
              "      <th>3</th>\n",
              "      <td>continuous sneezing</td>\n",
              "      <td>4</td>\n",
              "    </tr>\n",
              "    <tr>\n",
              "      <th>4</th>\n",
              "      <td>shivering</td>\n",
              "      <td>5</td>\n",
              "    </tr>\n",
              "  </tbody>\n",
              "</table>\n",
              "</div>"
            ],
            "text/plain": [
              "                Symptom  weight\n",
              "0               itching       1\n",
              "1             skin rash       3\n",
              "2  nodal skin eruptions       4\n",
              "3   continuous sneezing       4\n",
              "4             shivering       5"
            ]
          },
          "execution_count": 10,
          "metadata": {},
          "output_type": "execute_result"
        }
      ],
      "source": [
        "df1 = pd.read_csv('/kaggle/input/disease-symptom-description-dataset/Symptom-severity.csv')\n",
        "df1['Symptom'] = df1['Symptom'].str.replace('_',' ')\n",
        "df1.head()"
      ]
    },
    {
      "cell_type": "markdown",
      "id": "047dcc01",
      "metadata": {
        "papermill": {
          "duration": 0.013891,
          "end_time": "2022-12-30T16:45:09.742981",
          "exception": false,
          "start_time": "2022-12-30T16:45:09.729090",
          "status": "completed"
        },
        "tags": [],
        "id": "047dcc01"
      },
      "source": [
        "**Get overall list of symptoms**"
      ]
    },
    {
      "cell_type": "code",
      "execution_count": null,
      "id": "3f1c5fa1",
      "metadata": {
        "execution": {
          "iopub.execute_input": "2022-12-30T16:45:09.772964Z",
          "iopub.status.busy": "2022-12-30T16:45:09.772098Z",
          "iopub.status.idle": "2022-12-30T16:45:09.780452Z",
          "shell.execute_reply": "2022-12-30T16:45:09.779287Z"
        },
        "papermill": {
          "duration": 0.025712,
          "end_time": "2022-12-30T16:45:09.782628",
          "exception": false,
          "start_time": "2022-12-30T16:45:09.756916",
          "status": "completed"
        },
        "tags": [],
        "id": "3f1c5fa1",
        "outputId": "90aecea8-b8e4-487e-96d0-12ec0c732803"
      },
      "outputs": [
        {
          "data": {
            "text/plain": [
              "array(['itching', 'skin rash', 'nodal skin eruptions',\n",
              "       'continuous sneezing', 'shivering', 'chills', 'joint pain',\n",
              "       'stomach pain', 'acidity', 'ulcers on tongue', 'muscle wasting',\n",
              "       'vomiting', 'burning micturition', 'spotting urination', 'fatigue',\n",
              "       'weight gain', 'anxiety', 'cold hands and feets', 'mood swings',\n",
              "       'weight loss', 'restlessness', 'lethargy', 'patches in throat',\n",
              "       'irregular sugar level', 'cough', 'high fever', 'sunken eyes',\n",
              "       'breathlessness', 'sweating', 'dehydration', 'indigestion',\n",
              "       'headache', 'yellowish skin', 'dark urine', 'nausea',\n",
              "       'loss of appetite', 'pain behind the eyes', 'back pain',\n",
              "       'constipation', 'abdominal pain', 'diarrhoea', 'mild fever',\n",
              "       'yellow urine', 'yellowing of eyes', 'acute liver failure',\n",
              "       'fluid overload', 'swelling of stomach', 'swelled lymph nodes',\n",
              "       'malaise', 'blurred and distorted vision', 'phlegm',\n",
              "       'throat irritation', 'redness of eyes', 'sinus pressure',\n",
              "       'runny nose', 'congestion', 'chest pain', 'weakness in limbs',\n",
              "       'fast heart rate', 'pain during bowel movements',\n",
              "       'pain in anal region', 'bloody stool', 'irritation in anus',\n",
              "       'neck pain', 'dizziness', 'cramps', 'bruising', 'obesity',\n",
              "       'swollen legs', 'swollen blood vessels', 'puffy face and eyes',\n",
              "       'enlarged thyroid', 'brittle nails', 'swollen extremeties',\n",
              "       'excessive hunger', 'extra marital contacts',\n",
              "       'drying and tingling lips', 'slurred speech', 'knee pain',\n",
              "       'hip joint pain', 'muscle weakness', 'stiff neck',\n",
              "       'swelling joints', 'movement stiffness', 'spinning movements',\n",
              "       'loss of balance', 'unsteadiness', 'weakness of one body side',\n",
              "       'loss of smell', 'bladder discomfort', 'foul smell ofurine',\n",
              "       'continuous feel of urine', 'passage of gases', 'internal itching',\n",
              "       'toxic look (typhos)', 'depression', 'irritability', 'muscle pain',\n",
              "       'altered sensorium', 'red spots over body', 'belly pain',\n",
              "       'abnormal menstruation', 'dischromic patches',\n",
              "       'watering from eyes', 'increased appetite', 'polyuria',\n",
              "       'family history', 'mucoid sputum', 'rusty sputum',\n",
              "       'lack of concentration', 'visual disturbances',\n",
              "       'receiving blood transfusion', 'receiving unsterile injections',\n",
              "       'coma', 'stomach bleeding', 'distention of abdomen',\n",
              "       'history of alcohol consumption', 'blood in sputum',\n",
              "       'prominent veins on calf', 'palpitations', 'painful walking',\n",
              "       'pus filled pimples', 'blackheads', 'scurring', 'skin peeling',\n",
              "       'silver like dusting', 'small dents in nails',\n",
              "       'inflammatory nails', 'blister', 'red sore around nose',\n",
              "       'yellow crust ooze', 'prognosis'], dtype=object)"
            ]
          },
          "execution_count": 11,
          "metadata": {},
          "output_type": "execute_result"
        }
      ],
      "source": [
        "df1['Symptom'].unique()"
      ]
    },
    {
      "cell_type": "markdown",
      "id": "fba4c7f4",
      "metadata": {
        "papermill": {
          "duration": 0.014011,
          "end_time": "2022-12-30T16:45:09.811140",
          "exception": false,
          "start_time": "2022-12-30T16:45:09.797129",
          "status": "completed"
        },
        "tags": [],
        "id": "fba4c7f4"
      },
      "source": [
        "**Encode symptoms in the data with the symptom rank**"
      ]
    },
    {
      "cell_type": "code",
      "execution_count": null,
      "id": "3bc575d3",
      "metadata": {
        "execution": {
          "iopub.execute_input": "2022-12-30T16:45:09.841466Z",
          "iopub.status.busy": "2022-12-30T16:45:09.841007Z",
          "iopub.status.idle": "2022-12-30T16:45:14.219431Z",
          "shell.execute_reply": "2022-12-30T16:45:14.218235Z"
        },
        "papermill": {
          "duration": 4.396489,
          "end_time": "2022-12-30T16:45:14.222242",
          "exception": false,
          "start_time": "2022-12-30T16:45:09.825753",
          "status": "completed"
        },
        "tags": [],
        "id": "3bc575d3",
        "outputId": "935413c1-fbeb-43d7-d8dc-c3dbba56fee8"
      },
      "outputs": [
        {
          "data": {
            "text/html": [
              "<div>\n",
              "<style scoped>\n",
              "    .dataframe tbody tr th:only-of-type {\n",
              "        vertical-align: middle;\n",
              "    }\n",
              "\n",
              "    .dataframe tbody tr th {\n",
              "        vertical-align: top;\n",
              "    }\n",
              "\n",
              "    .dataframe thead th {\n",
              "        text-align: right;\n",
              "    }\n",
              "</style>\n",
              "<table border=\"1\" class=\"dataframe\">\n",
              "  <thead>\n",
              "    <tr style=\"text-align: right;\">\n",
              "      <th></th>\n",
              "      <th>Disease</th>\n",
              "      <th>Symptom_1</th>\n",
              "      <th>Symptom_2</th>\n",
              "      <th>Symptom_3</th>\n",
              "      <th>Symptom_4</th>\n",
              "      <th>Symptom_5</th>\n",
              "      <th>Symptom_6</th>\n",
              "      <th>Symptom_7</th>\n",
              "      <th>Symptom_8</th>\n",
              "      <th>Symptom_9</th>\n",
              "      <th>Symptom_10</th>\n",
              "      <th>Symptom_11</th>\n",
              "      <th>Symptom_12</th>\n",
              "      <th>Symptom_13</th>\n",
              "      <th>Symptom_14</th>\n",
              "      <th>Symptom_15</th>\n",
              "      <th>Symptom_16</th>\n",
              "      <th>Symptom_17</th>\n",
              "    </tr>\n",
              "  </thead>\n",
              "  <tbody>\n",
              "    <tr>\n",
              "      <th>0</th>\n",
              "      <td>Acne</td>\n",
              "      <td>3</td>\n",
              "      <td>2</td>\n",
              "      <td>2</td>\n",
              "      <td>0</td>\n",
              "      <td>0</td>\n",
              "      <td>0</td>\n",
              "      <td>0</td>\n",
              "      <td>0</td>\n",
              "      <td>0</td>\n",
              "      <td>0</td>\n",
              "      <td>0</td>\n",
              "      <td>0</td>\n",
              "      <td>0</td>\n",
              "      <td>0</td>\n",
              "      <td>0</td>\n",
              "      <td>0</td>\n",
              "      <td>0</td>\n",
              "    </tr>\n",
              "    <tr>\n",
              "      <th>1</th>\n",
              "      <td>Acne</td>\n",
              "      <td>3</td>\n",
              "      <td>2</td>\n",
              "      <td>2</td>\n",
              "      <td>2</td>\n",
              "      <td>0</td>\n",
              "      <td>0</td>\n",
              "      <td>0</td>\n",
              "      <td>0</td>\n",
              "      <td>0</td>\n",
              "      <td>0</td>\n",
              "      <td>0</td>\n",
              "      <td>0</td>\n",
              "      <td>0</td>\n",
              "      <td>0</td>\n",
              "      <td>0</td>\n",
              "      <td>0</td>\n",
              "      <td>0</td>\n",
              "    </tr>\n",
              "    <tr>\n",
              "      <th>2</th>\n",
              "      <td>Hyperthyroidism</td>\n",
              "      <td>4</td>\n",
              "      <td>3</td>\n",
              "      <td>3</td>\n",
              "      <td>5</td>\n",
              "      <td>3</td>\n",
              "      <td>6</td>\n",
              "      <td>5</td>\n",
              "      <td>4</td>\n",
              "      <td>2</td>\n",
              "      <td>2</td>\n",
              "      <td>6</td>\n",
              "      <td>0</td>\n",
              "      <td>0</td>\n",
              "      <td>0</td>\n",
              "      <td>0</td>\n",
              "      <td>0</td>\n",
              "      <td>0</td>\n",
              "    </tr>\n",
              "    <tr>\n",
              "      <th>3</th>\n",
              "      <td>AIDS</td>\n",
              "      <td>3</td>\n",
              "      <td>6</td>\n",
              "      <td>7</td>\n",
              "      <td>5</td>\n",
              "      <td>0</td>\n",
              "      <td>0</td>\n",
              "      <td>0</td>\n",
              "      <td>0</td>\n",
              "      <td>0</td>\n",
              "      <td>0</td>\n",
              "      <td>0</td>\n",
              "      <td>0</td>\n",
              "      <td>0</td>\n",
              "      <td>0</td>\n",
              "      <td>0</td>\n",
              "      <td>0</td>\n",
              "      <td>0</td>\n",
              "    </tr>\n",
              "    <tr>\n",
              "      <th>4</th>\n",
              "      <td>Chronic cholestasis</td>\n",
              "      <td>1</td>\n",
              "      <td>5</td>\n",
              "      <td>3</td>\n",
              "      <td>5</td>\n",
              "      <td>4</td>\n",
              "      <td>4</td>\n",
              "      <td>4</td>\n",
              "      <td>0</td>\n",
              "      <td>0</td>\n",
              "      <td>0</td>\n",
              "      <td>0</td>\n",
              "      <td>0</td>\n",
              "      <td>0</td>\n",
              "      <td>0</td>\n",
              "      <td>0</td>\n",
              "      <td>0</td>\n",
              "      <td>0</td>\n",
              "    </tr>\n",
              "  </tbody>\n",
              "</table>\n",
              "</div>"
            ],
            "text/plain": [
              "               Disease Symptom_1 Symptom_2 Symptom_3 Symptom_4 Symptom_5  \\\n",
              "0                 Acne         3         2         2         0         0   \n",
              "1                 Acne         3         2         2         2         0   \n",
              "2      Hyperthyroidism         4         3         3         5         3   \n",
              "3                 AIDS         3         6         7         5         0   \n",
              "4  Chronic cholestasis         1         5         3         5         4   \n",
              "\n",
              "  Symptom_6 Symptom_7 Symptom_8 Symptom_9 Symptom_10 Symptom_11 Symptom_12  \\\n",
              "0         0         0         0         0          0          0          0   \n",
              "1         0         0         0         0          0          0          0   \n",
              "2         6         5         4         2          2          6          0   \n",
              "3         0         0         0         0          0          0          0   \n",
              "4         4         4         0         0          0          0          0   \n",
              "\n",
              "  Symptom_13 Symptom_14 Symptom_15 Symptom_16 Symptom_17  \n",
              "0          0          0          0          0          0  \n",
              "1          0          0          0          0          0  \n",
              "2          0          0          0          0          0  \n",
              "3          0          0          0          0          0  \n",
              "4          0          0          0          0          0  "
            ]
          },
          "execution_count": 12,
          "metadata": {},
          "output_type": "execute_result"
        }
      ],
      "source": [
        "vals = df.values\n",
        "symptoms = df1['Symptom'].unique()\n",
        "\n",
        "for i in range(len(symptoms)):\n",
        "    vals[vals == symptoms[i]] = df1[df1['Symptom'] == symptoms[i]]['weight'].values[0]\n",
        "\n",
        "d = pd.DataFrame(vals, columns=cols)\n",
        "d.head()"
      ]
    },
    {
      "cell_type": "markdown",
      "id": "e5677ea0",
      "metadata": {
        "papermill": {
          "duration": 0.014262,
          "end_time": "2022-12-30T16:45:14.251538",
          "exception": false,
          "start_time": "2022-12-30T16:45:14.237276",
          "status": "completed"
        },
        "tags": [],
        "id": "e5677ea0"
      },
      "source": [
        "**Assign symptoms with no rank to zero**"
      ]
    },
    {
      "cell_type": "code",
      "execution_count": null,
      "id": "80c54bf7",
      "metadata": {
        "execution": {
          "iopub.execute_input": "2022-12-30T16:45:14.282285Z",
          "iopub.status.busy": "2022-12-30T16:45:14.281856Z",
          "iopub.status.idle": "2022-12-30T16:45:14.411320Z",
          "shell.execute_reply": "2022-12-30T16:45:14.410252Z"
        },
        "papermill": {
          "duration": 0.147932,
          "end_time": "2022-12-30T16:45:14.413943",
          "exception": false,
          "start_time": "2022-12-30T16:45:14.266011",
          "status": "completed"
        },
        "tags": [],
        "id": "80c54bf7",
        "outputId": "125afbb6-f1ff-4b5f-9c18-ad20a24f14bd"
      },
      "outputs": [
        {
          "data": {
            "text/html": [
              "<div>\n",
              "<style scoped>\n",
              "    .dataframe tbody tr th:only-of-type {\n",
              "        vertical-align: middle;\n",
              "    }\n",
              "\n",
              "    .dataframe tbody tr th {\n",
              "        vertical-align: top;\n",
              "    }\n",
              "\n",
              "    .dataframe thead th {\n",
              "        text-align: right;\n",
              "    }\n",
              "</style>\n",
              "<table border=\"1\" class=\"dataframe\">\n",
              "  <thead>\n",
              "    <tr style=\"text-align: right;\">\n",
              "      <th></th>\n",
              "      <th>Disease</th>\n",
              "      <th>Symptom_1</th>\n",
              "      <th>Symptom_2</th>\n",
              "      <th>Symptom_3</th>\n",
              "      <th>Symptom_4</th>\n",
              "      <th>Symptom_5</th>\n",
              "      <th>Symptom_6</th>\n",
              "      <th>Symptom_7</th>\n",
              "      <th>Symptom_8</th>\n",
              "      <th>Symptom_9</th>\n",
              "      <th>Symptom_10</th>\n",
              "      <th>Symptom_11</th>\n",
              "      <th>Symptom_12</th>\n",
              "      <th>Symptom_13</th>\n",
              "      <th>Symptom_14</th>\n",
              "      <th>Symptom_15</th>\n",
              "      <th>Symptom_16</th>\n",
              "      <th>Symptom_17</th>\n",
              "    </tr>\n",
              "  </thead>\n",
              "  <tbody>\n",
              "    <tr>\n",
              "      <th>0</th>\n",
              "      <td>Acne</td>\n",
              "      <td>3</td>\n",
              "      <td>2</td>\n",
              "      <td>2</td>\n",
              "      <td>0</td>\n",
              "      <td>0</td>\n",
              "      <td>0</td>\n",
              "      <td>0</td>\n",
              "      <td>0</td>\n",
              "      <td>0</td>\n",
              "      <td>0</td>\n",
              "      <td>0</td>\n",
              "      <td>0</td>\n",
              "      <td>0</td>\n",
              "      <td>0</td>\n",
              "      <td>0</td>\n",
              "      <td>0</td>\n",
              "      <td>0</td>\n",
              "    </tr>\n",
              "    <tr>\n",
              "      <th>1</th>\n",
              "      <td>Acne</td>\n",
              "      <td>3</td>\n",
              "      <td>2</td>\n",
              "      <td>2</td>\n",
              "      <td>2</td>\n",
              "      <td>0</td>\n",
              "      <td>0</td>\n",
              "      <td>0</td>\n",
              "      <td>0</td>\n",
              "      <td>0</td>\n",
              "      <td>0</td>\n",
              "      <td>0</td>\n",
              "      <td>0</td>\n",
              "      <td>0</td>\n",
              "      <td>0</td>\n",
              "      <td>0</td>\n",
              "      <td>0</td>\n",
              "      <td>0</td>\n",
              "    </tr>\n",
              "    <tr>\n",
              "      <th>2</th>\n",
              "      <td>Hyperthyroidism</td>\n",
              "      <td>4</td>\n",
              "      <td>3</td>\n",
              "      <td>3</td>\n",
              "      <td>5</td>\n",
              "      <td>3</td>\n",
              "      <td>6</td>\n",
              "      <td>5</td>\n",
              "      <td>4</td>\n",
              "      <td>2</td>\n",
              "      <td>2</td>\n",
              "      <td>6</td>\n",
              "      <td>0</td>\n",
              "      <td>0</td>\n",
              "      <td>0</td>\n",
              "      <td>0</td>\n",
              "      <td>0</td>\n",
              "      <td>0</td>\n",
              "    </tr>\n",
              "    <tr>\n",
              "      <th>3</th>\n",
              "      <td>AIDS</td>\n",
              "      <td>3</td>\n",
              "      <td>6</td>\n",
              "      <td>7</td>\n",
              "      <td>5</td>\n",
              "      <td>0</td>\n",
              "      <td>0</td>\n",
              "      <td>0</td>\n",
              "      <td>0</td>\n",
              "      <td>0</td>\n",
              "      <td>0</td>\n",
              "      <td>0</td>\n",
              "      <td>0</td>\n",
              "      <td>0</td>\n",
              "      <td>0</td>\n",
              "      <td>0</td>\n",
              "      <td>0</td>\n",
              "      <td>0</td>\n",
              "    </tr>\n",
              "    <tr>\n",
              "      <th>4</th>\n",
              "      <td>Chronic cholestasis</td>\n",
              "      <td>1</td>\n",
              "      <td>5</td>\n",
              "      <td>3</td>\n",
              "      <td>5</td>\n",
              "      <td>4</td>\n",
              "      <td>4</td>\n",
              "      <td>4</td>\n",
              "      <td>0</td>\n",
              "      <td>0</td>\n",
              "      <td>0</td>\n",
              "      <td>0</td>\n",
              "      <td>0</td>\n",
              "      <td>0</td>\n",
              "      <td>0</td>\n",
              "      <td>0</td>\n",
              "      <td>0</td>\n",
              "      <td>0</td>\n",
              "    </tr>\n",
              "    <tr>\n",
              "      <th>5</th>\n",
              "      <td>Hypertension</td>\n",
              "      <td>3</td>\n",
              "      <td>7</td>\n",
              "      <td>4</td>\n",
              "      <td>4</td>\n",
              "      <td>3</td>\n",
              "      <td>0</td>\n",
              "      <td>0</td>\n",
              "      <td>0</td>\n",
              "      <td>0</td>\n",
              "      <td>0</td>\n",
              "      <td>0</td>\n",
              "      <td>0</td>\n",
              "      <td>0</td>\n",
              "      <td>0</td>\n",
              "      <td>0</td>\n",
              "      <td>0</td>\n",
              "      <td>0</td>\n",
              "    </tr>\n",
              "    <tr>\n",
              "      <th>6</th>\n",
              "      <td>Hypoglycemia</td>\n",
              "      <td>5</td>\n",
              "      <td>4</td>\n",
              "      <td>4</td>\n",
              "      <td>3</td>\n",
              "      <td>3</td>\n",
              "      <td>5</td>\n",
              "      <td>5</td>\n",
              "      <td>4</td>\n",
              "      <td>4</td>\n",
              "      <td>4</td>\n",
              "      <td>2</td>\n",
              "      <td>4</td>\n",
              "      <td>0</td>\n",
              "      <td>0</td>\n",
              "      <td>0</td>\n",
              "      <td>0</td>\n",
              "      <td>0</td>\n",
              "    </tr>\n",
              "    <tr>\n",
              "      <th>7</th>\n",
              "      <td>Arthritis</td>\n",
              "      <td>2</td>\n",
              "      <td>4</td>\n",
              "      <td>5</td>\n",
              "      <td>2</td>\n",
              "      <td>0</td>\n",
              "      <td>0</td>\n",
              "      <td>0</td>\n",
              "      <td>0</td>\n",
              "      <td>0</td>\n",
              "      <td>0</td>\n",
              "      <td>0</td>\n",
              "      <td>0</td>\n",
              "      <td>0</td>\n",
              "      <td>0</td>\n",
              "      <td>0</td>\n",
              "      <td>0</td>\n",
              "      <td>0</td>\n",
              "    </tr>\n",
              "    <tr>\n",
              "      <th>8</th>\n",
              "      <td>Hepatitis B</td>\n",
              "      <td>1</td>\n",
              "      <td>4</td>\n",
              "      <td>2</td>\n",
              "      <td>3</td>\n",
              "      <td>4</td>\n",
              "      <td>4</td>\n",
              "      <td>4</td>\n",
              "      <td>4</td>\n",
              "      <td>4</td>\n",
              "      <td>6</td>\n",
              "      <td>5</td>\n",
              "      <td>2</td>\n",
              "      <td>0</td>\n",
              "      <td>0</td>\n",
              "      <td>0</td>\n",
              "      <td>0</td>\n",
              "      <td>0</td>\n",
              "    </tr>\n",
              "    <tr>\n",
              "      <th>9</th>\n",
              "      <td>Migraine</td>\n",
              "      <td>3</td>\n",
              "      <td>5</td>\n",
              "      <td>3</td>\n",
              "      <td>5</td>\n",
              "      <td>4</td>\n",
              "      <td>4</td>\n",
              "      <td>3</td>\n",
              "      <td>2</td>\n",
              "      <td>3</td>\n",
              "      <td>0</td>\n",
              "      <td>0</td>\n",
              "      <td>0</td>\n",
              "      <td>0</td>\n",
              "      <td>0</td>\n",
              "      <td>0</td>\n",
              "      <td>0</td>\n",
              "      <td>0</td>\n",
              "    </tr>\n",
              "  </tbody>\n",
              "</table>\n",
              "</div>"
            ],
            "text/plain": [
              "               Disease  Symptom_1  Symptom_2  Symptom_3  Symptom_4  Symptom_5  \\\n",
              "0                 Acne          3          2          2          0          0   \n",
              "1                 Acne          3          2          2          2          0   \n",
              "2      Hyperthyroidism          4          3          3          5          3   \n",
              "3                 AIDS          3          6          7          5          0   \n",
              "4  Chronic cholestasis          1          5          3          5          4   \n",
              "5         Hypertension          3          7          4          4          3   \n",
              "6         Hypoglycemia          5          4          4          3          3   \n",
              "7            Arthritis          2          4          5          2          0   \n",
              "8          Hepatitis B          1          4          2          3          4   \n",
              "9             Migraine          3          5          3          5          4   \n",
              "\n",
              "   Symptom_6  Symptom_7  Symptom_8  Symptom_9  Symptom_10  Symptom_11  \\\n",
              "0          0          0          0          0           0           0   \n",
              "1          0          0          0          0           0           0   \n",
              "2          6          5          4          2           2           6   \n",
              "3          0          0          0          0           0           0   \n",
              "4          4          4          0          0           0           0   \n",
              "5          0          0          0          0           0           0   \n",
              "6          5          5          4          4           4           2   \n",
              "7          0          0          0          0           0           0   \n",
              "8          4          4          4          4           6           5   \n",
              "9          4          3          2          3           0           0   \n",
              "\n",
              "   Symptom_12  Symptom_13  Symptom_14  Symptom_15  Symptom_16  Symptom_17  \n",
              "0           0           0           0           0           0           0  \n",
              "1           0           0           0           0           0           0  \n",
              "2           0           0           0           0           0           0  \n",
              "3           0           0           0           0           0           0  \n",
              "4           0           0           0           0           0           0  \n",
              "5           0           0           0           0           0           0  \n",
              "6           4           0           0           0           0           0  \n",
              "7           0           0           0           0           0           0  \n",
              "8           2           0           0           0           0           0  \n",
              "9           0           0           0           0           0           0  "
            ]
          },
          "execution_count": 13,
          "metadata": {},
          "output_type": "execute_result"
        }
      ],
      "source": [
        "d = d.replace('dischromic  patches', 0)\n",
        "d = d.replace('spotting  urination',0)\n",
        "df = d.replace('foul smell of urine',0)\n",
        "df.head(10)"
      ]
    },
    {
      "cell_type": "markdown",
      "id": "cf86fbc1",
      "metadata": {
        "papermill": {
          "duration": 0.014315,
          "end_time": "2022-12-30T16:45:14.443138",
          "exception": false,
          "start_time": "2022-12-30T16:45:14.428823",
          "status": "completed"
        },
        "tags": [],
        "id": "cf86fbc1"
      },
      "source": [
        "**Check if entire columns have zero values so we can drop those values**"
      ]
    },
    {
      "cell_type": "code",
      "execution_count": null,
      "id": "363dcf59",
      "metadata": {
        "execution": {
          "iopub.execute_input": "2022-12-30T16:45:14.474860Z",
          "iopub.status.busy": "2022-12-30T16:45:14.474470Z",
          "iopub.status.idle": "2022-12-30T16:45:14.494810Z",
          "shell.execute_reply": "2022-12-30T16:45:14.493079Z"
        },
        "papermill": {
          "duration": 0.039076,
          "end_time": "2022-12-30T16:45:14.497221",
          "exception": false,
          "start_time": "2022-12-30T16:45:14.458145",
          "status": "completed"
        },
        "tags": [],
        "id": "363dcf59",
        "outputId": "a9b53957-ac68-42a9-f2ae-57e67d98e3b4"
      },
      "outputs": [
        {
          "name": "stdout",
          "output_type": "stream",
          "text": [
            "            count\n",
            "Disease         0\n",
            "Symptom_1       0\n",
            "Symptom_2       0\n",
            "Symptom_3       0\n",
            "Symptom_4       0\n",
            "Symptom_5       0\n",
            "Symptom_6       0\n",
            "Symptom_7       0\n",
            "Symptom_8       0\n",
            "Symptom_9       0\n",
            "Symptom_10      0\n",
            "Symptom_11      0\n",
            "Symptom_12      0\n",
            "Symptom_13      0\n",
            "Symptom_14      0\n",
            "Symptom_15      0\n",
            "Symptom_16      0\n",
            "Symptom_17      0\n"
          ]
        }
      ],
      "source": [
        "null_checker = df.apply(lambda x: sum(x.isnull())).to_frame(name='count')\n",
        "print(null_checker)"
      ]
    },
    {
      "cell_type": "code",
      "execution_count": null,
      "id": "ed5ab237",
      "metadata": {
        "execution": {
          "iopub.execute_input": "2022-12-30T16:45:14.528851Z",
          "iopub.status.busy": "2022-12-30T16:45:14.528423Z",
          "iopub.status.idle": "2022-12-30T16:45:14.641968Z",
          "shell.execute_reply": "2022-12-30T16:45:14.640470Z"
        },
        "papermill": {
          "duration": 0.133616,
          "end_time": "2022-12-30T16:45:14.645819",
          "exception": false,
          "start_time": "2022-12-30T16:45:14.512203",
          "status": "completed"
        },
        "tags": [],
        "id": "ed5ab237"
      },
      "outputs": [],
      "source": [
        "plt.figure(figsize=(10,5))\n",
        "plt.plot(null_checker.index, null_checker['count'])\n",
        "plt.xticks(null_checker.index, null_checker.index, rotation=45,\n",
        "horizontalalignment='right')\n",
        "plt.title('After removing Null values')\n",
        "plt.xlabel('column names')\n",
        "plt.margins(0.01)\n",
        "plt.show()"
      ]
    },
    {
      "cell_type": "code",
      "execution_count": null,
      "id": "80a73ae9",
      "metadata": {
        "execution": {
          "iopub.execute_input": "2022-12-30T16:45:14.697519Z",
          "iopub.status.busy": "2022-12-30T16:45:14.696475Z",
          "iopub.status.idle": "2022-12-30T16:45:14.706494Z",
          "shell.execute_reply": "2022-12-30T16:45:14.704722Z"
        },
        "papermill": {
          "duration": 0.039009,
          "end_time": "2022-12-30T16:45:14.709564",
          "exception": false,
          "start_time": "2022-12-30T16:45:14.670555",
          "status": "completed"
        },
        "tags": [],
        "id": "80a73ae9",
        "outputId": "922be547-938f-4c83-b350-ed03a35b429b"
      },
      "outputs": [
        {
          "name": "stdout",
          "output_type": "stream",
          "text": [
            "Number of symptoms used to identify the disease  132\n",
            "Number of diseases that can be identified  41\n"
          ]
        }
      ],
      "source": [
        "print(\"Number of symptoms used to identify the disease \",len(df1['Symptom'].unique()))\n",
        "print(\"Number of diseases that can be identified \",len(df['Disease'].unique()))"
      ]
    },
    {
      "cell_type": "markdown",
      "id": "279c67a2",
      "metadata": {
        "papermill": {
          "duration": 0.014851,
          "end_time": "2022-12-30T16:45:14.748496",
          "exception": false,
          "start_time": "2022-12-30T16:45:14.733645",
          "status": "completed"
        },
        "tags": [],
        "id": "279c67a2"
      },
      "source": [
        "**Get the names of diseases from data**"
      ]
    },
    {
      "cell_type": "code",
      "execution_count": null,
      "id": "4668c9dc",
      "metadata": {
        "execution": {
          "iopub.execute_input": "2022-12-30T16:45:14.780398Z",
          "iopub.status.busy": "2022-12-30T16:45:14.779642Z",
          "iopub.status.idle": "2022-12-30T16:45:14.786617Z",
          "shell.execute_reply": "2022-12-30T16:45:14.785774Z"
        },
        "papermill": {
          "duration": 0.025255,
          "end_time": "2022-12-30T16:45:14.788702",
          "exception": false,
          "start_time": "2022-12-30T16:45:14.763447",
          "status": "completed"
        },
        "tags": [],
        "id": "4668c9dc",
        "outputId": "d215b16d-c97e-494f-b2f6-2485e96f32cf"
      },
      "outputs": [
        {
          "data": {
            "text/plain": [
              "array(['Acne', 'Hyperthyroidism', 'AIDS', 'Chronic cholestasis',\n",
              "       'Hypertension', 'Hypoglycemia', 'Arthritis', 'Hepatitis B',\n",
              "       'Migraine', 'Urinary tract infection', 'Diabetes', 'Hepatitis D',\n",
              "       'Psoriasis', 'Alcoholic hepatitis', 'Dimorphic hemmorhoids(piles)',\n",
              "       'Hepatitis E', 'Cervical spondylosis', 'Bronchial Asthma',\n",
              "       'hepatitis A', 'Allergy', 'Hepatitis C', 'Pneumonia',\n",
              "       'Hypothyroidism', 'Gastroenteritis', 'Varicose veins', 'Jaundice',\n",
              "       'Drug Reaction', '(vertigo) Paroymsal  Positional Vertigo',\n",
              "       'Heart attack', 'Tuberculosis', 'Typhoid', 'Common Cold',\n",
              "       'Peptic ulcer diseae', 'Paralysis (brain hemorrhage)',\n",
              "       'Fungal infection', 'Impetigo', 'GERD', 'Dengue', 'Malaria',\n",
              "       'Chicken pox', 'Osteoarthristis'], dtype=object)"
            ]
          },
          "execution_count": 17,
          "metadata": {},
          "output_type": "execute_result"
        }
      ],
      "source": [
        "df['Disease'].unique()"
      ]
    },
    {
      "cell_type": "markdown",
      "id": "2ac3d4bb",
      "metadata": {
        "papermill": {
          "duration": 0.014555,
          "end_time": "2022-12-30T16:45:14.818376",
          "exception": false,
          "start_time": "2022-12-30T16:45:14.803821",
          "status": "completed"
        },
        "tags": [],
        "id": "2ac3d4bb"
      },
      "source": [
        "### Select the features as symptoms column and label as Disease column\n",
        "\n",
        "Explination: A **feature** is an input; **label** is an output.\n",
        "A feature is one column of the data in your input set. For instance, if you're trying to predict the type of pet someone will choose, your input features might include age, home region, family income, etc. The label is the final choice, such as dog, fish, iguana, rock, etc.\n",
        "\n",
        "Once you've trained your model, you will give it sets of new input containing those features; it will return the predicted \"label\" (pet type) for that person."
      ]
    },
    {
      "cell_type": "code",
      "execution_count": null,
      "id": "61888d2d",
      "metadata": {
        "execution": {
          "iopub.execute_input": "2022-12-30T16:45:14.851366Z",
          "iopub.status.busy": "2022-12-30T16:45:14.850614Z",
          "iopub.status.idle": "2022-12-30T16:45:14.858309Z",
          "shell.execute_reply": "2022-12-30T16:45:14.857450Z"
        },
        "papermill": {
          "duration": 0.02699,
          "end_time": "2022-12-30T16:45:14.860887",
          "exception": false,
          "start_time": "2022-12-30T16:45:14.833897",
          "status": "completed"
        },
        "tags": [],
        "id": "61888d2d"
      },
      "outputs": [],
      "source": [
        "data = df.iloc[:,1:].values\n",
        "labels = df['Disease'].values"
      ]
    },
    {
      "cell_type": "markdown",
      "id": "f365bba2",
      "metadata": {
        "papermill": {
          "duration": 0.015078,
          "end_time": "2022-12-30T16:45:14.891350",
          "exception": false,
          "start_time": "2022-12-30T16:45:14.876272",
          "status": "completed"
        },
        "tags": [],
        "id": "f365bba2"
      },
      "source": [
        "## Splitting the dataset to training (80%) and testing (20%)\n",
        "\n",
        "Separating data into training and testing sets is an important part of evaluating data mining models. Typically, when you separate a data set into a training set and testing set, most of the data is used for training, and a smaller portion of the data is used for testing. By using similar data for training and testing, you can minimize the effects of data discrepancies and better understand the characteristics of the model.\n",
        "After a model has been processed by using the training set, we test the model by making predictions against the test set. Because the data in the testing set already contains known values for the attribute that you want to predict, it is easy to determine whether the model's guesses are correct.\n",
        "\n",
        "* Train Dataset: Used to fit the machine learning model.\n",
        "* Test Dataset: Used to evaluate the fit machine learning model."
      ]
    },
    {
      "cell_type": "code",
      "execution_count": null,
      "id": "f91aca61",
      "metadata": {
        "execution": {
          "iopub.execute_input": "2022-12-30T16:45:14.923625Z",
          "iopub.status.busy": "2022-12-30T16:45:14.922908Z",
          "iopub.status.idle": "2022-12-30T16:45:14.930403Z",
          "shell.execute_reply": "2022-12-30T16:45:14.929014Z"
        },
        "papermill": {
          "duration": 0.026336,
          "end_time": "2022-12-30T16:45:14.932818",
          "exception": false,
          "start_time": "2022-12-30T16:45:14.906482",
          "status": "completed"
        },
        "tags": [],
        "id": "f91aca61",
        "outputId": "ff02af71-fbdb-410c-8b39-c5c1e3d6ea07"
      },
      "outputs": [
        {
          "name": "stdout",
          "output_type": "stream",
          "text": [
            "(3936, 17) (984, 17) (3936,) (984,)\n"
          ]
        }
      ],
      "source": [
        "x_train, x_test, y_train, y_test = train_test_split(data, labels, train_size = 0.8,random_state=42)\n",
        "print(x_train.shape, x_test.shape, y_train.shape, y_test.shape)"
      ]
    },
    {
      "cell_type": "markdown",
      "id": "c03b09af",
      "metadata": {
        "papermill": {
          "duration": 0.015295,
          "end_time": "2022-12-30T16:45:14.963810",
          "exception": false,
          "start_time": "2022-12-30T16:45:14.948515",
          "status": "completed"
        },
        "tags": [],
        "id": "c03b09af"
      },
      "source": [
        "### Compute the F1 score, also known as balanced F-score or F-measure.\n",
        "\n",
        "The F1 score can be interpreted as a weighted average of the precision and\n",
        "recall, where an F1 score reaches its best value at 1 and worst score at 0.\n",
        "The relative contribution of precision and recall to the F1 score are\n",
        "equal. The formula for the F1 score is\n",
        "\n",
        "    F1 = 2 * (precision * recall) / (precision + recall)"
      ]
    },
    {
      "cell_type": "markdown",
      "id": "d54c1742",
      "metadata": {
        "papermill": {
          "duration": 0.014624,
          "end_time": "2022-12-30T16:45:14.993446",
          "exception": false,
          "start_time": "2022-12-30T16:45:14.978822",
          "status": "completed"
        },
        "tags": [],
        "id": "d54c1742"
      },
      "source": [
        "# Decision Tree"
      ]
    },
    {
      "cell_type": "code",
      "execution_count": null,
      "id": "ff1825d8",
      "metadata": {
        "execution": {
          "iopub.execute_input": "2022-12-30T16:45:15.026374Z",
          "iopub.status.busy": "2022-12-30T16:45:15.025255Z",
          "iopub.status.idle": "2022-12-30T16:45:15.479884Z",
          "shell.execute_reply": "2022-12-30T16:45:15.478714Z"
        },
        "papermill": {
          "duration": 0.474242,
          "end_time": "2022-12-30T16:45:15.482649",
          "exception": false,
          "start_time": "2022-12-30T16:45:15.008407",
          "status": "completed"
        },
        "tags": [],
        "id": "ff1825d8",
        "outputId": "c7e1b883-71eb-4b4a-a45f-aaec7e107695"
      },
      "outputs": [
        {
          "name": "stdout",
          "output_type": "stream",
          "text": [
            "F1-score% = 95.7812664665753 | Accuracy% = 95.83333333333334\n"
          ]
        },
        {
          "data": {
            "text/plain": [
              "<AxesSubplot:title={'center':'After removing Null values'}>"
            ]
          },
          "execution_count": 20,
          "metadata": {},
          "output_type": "execute_result"
        }
      ],
      "source": [
        "tree =DecisionTreeClassifier(criterion='gini',random_state=42,max_depth=13)\n",
        "tree.fit(x_train, y_train)\n",
        "preds=tree.predict(x_test)\n",
        "conf_mat = confusion_matrix(y_test, preds)\n",
        "df_cm = pd.DataFrame(conf_mat, index=df['Disease'].unique(), columns=df['Disease'].unique())\n",
        "print('F1-score% =', f1_score(y_test, preds, average='macro')*100, '|', 'Accuracy% =', accuracy_score(y_test, preds)*100)\n",
        "sns.heatmap(df_cm)"
      ]
    },
    {
      "cell_type": "code",
      "execution_count": null,
      "id": "1581e22a",
      "metadata": {
        "execution": {
          "iopub.execute_input": "2022-12-30T16:45:15.515461Z",
          "iopub.status.busy": "2022-12-30T16:45:15.514632Z",
          "iopub.status.idle": "2022-12-30T16:45:15.635798Z",
          "shell.execute_reply": "2022-12-30T16:45:15.634432Z"
        },
        "papermill": {
          "duration": 0.140386,
          "end_time": "2022-12-30T16:45:15.638417",
          "exception": false,
          "start_time": "2022-12-30T16:45:15.498031",
          "status": "completed"
        },
        "tags": [],
        "id": "1581e22a",
        "outputId": "9056cbac-b493-4128-9d94-0ca9cf26df25"
      },
      "outputs": [
        {
          "name": "stdout",
          "output_type": "stream",
          "text": [
            "Mean Accuracy: 95.706%, Standard Deviation: (1.99%)\n"
          ]
        }
      ],
      "source": [
        "kfold = KFold(n_splits=10,shuffle=True,random_state=42)\n",
        "DS_train =cross_val_score(tree, x_train, y_train, cv=kfold, scoring='accuracy')\n",
        "pd.DataFrame(DS_train,columns=['Scores'])\n",
        "print(\"Mean Accuracy: %.3f%%, Standard Deviation: (%.2f%%)\" % (DS_train.mean()*100.0, DS_train.std()*100.0))"
      ]
    },
    {
      "cell_type": "code",
      "execution_count": null,
      "id": "95e89e3f",
      "metadata": {
        "execution": {
          "iopub.execute_input": "2022-12-30T16:45:15.671207Z",
          "iopub.status.busy": "2022-12-30T16:45:15.670775Z",
          "iopub.status.idle": "2022-12-30T16:45:15.723094Z",
          "shell.execute_reply": "2022-12-30T16:45:15.721807Z"
        },
        "papermill": {
          "duration": 0.071449,
          "end_time": "2022-12-30T16:45:15.725311",
          "exception": false,
          "start_time": "2022-12-30T16:45:15.653862",
          "status": "completed"
        },
        "tags": [],
        "id": "95e89e3f",
        "outputId": "5bebe307-aae7-42ae-a3d2-1a95b7ec0698"
      },
      "outputs": [
        {
          "name": "stdout",
          "output_type": "stream",
          "text": [
            "Mean Accuracy: 94.198%, Standard Deviation: (3.57%)\n"
          ]
        }
      ],
      "source": [
        "kfold = KFold(n_splits=10,shuffle=True,random_state=42)\n",
        "DS_test =cross_val_score(tree, x_test, y_test, cv=kfold, scoring='accuracy')\n",
        "pd.DataFrame(DS_test,columns=['Scores'])\n",
        "print(\"Mean Accuracy: %.3f%%, Standard Deviation: (%.2f%%)\" % (DS_test.mean()*100.0, DS_test.std()*100.0))"
      ]
    },
    {
      "cell_type": "markdown",
      "id": "affc4f89",
      "metadata": {
        "papermill": {
          "duration": 0.015176,
          "end_time": "2022-12-30T16:45:15.756216",
          "exception": false,
          "start_time": "2022-12-30T16:45:15.741040",
          "status": "completed"
        },
        "tags": [],
        "id": "affc4f89"
      },
      "source": [
        "# Random Forest"
      ]
    },
    {
      "cell_type": "code",
      "execution_count": null,
      "id": "4002ef6b",
      "metadata": {
        "execution": {
          "iopub.execute_input": "2022-12-30T16:45:15.789681Z",
          "iopub.status.busy": "2022-12-30T16:45:15.788662Z",
          "iopub.status.idle": "2022-12-30T16:45:15.793959Z",
          "shell.execute_reply": "2022-12-30T16:45:15.793004Z"
        },
        "papermill": {
          "duration": 0.024422,
          "end_time": "2022-12-30T16:45:15.796255",
          "exception": false,
          "start_time": "2022-12-30T16:45:15.771833",
          "status": "completed"
        },
        "tags": [],
        "id": "4002ef6b"
      },
      "outputs": [],
      "source": [
        "rfc=RandomForestClassifier(random_state=42)"
      ]
    },
    {
      "cell_type": "code",
      "execution_count": null,
      "id": "6f84886c",
      "metadata": {
        "execution": {
          "iopub.execute_input": "2022-12-30T16:45:15.829320Z",
          "iopub.status.busy": "2022-12-30T16:45:15.828613Z",
          "iopub.status.idle": "2022-12-30T16:45:18.002737Z",
          "shell.execute_reply": "2022-12-30T16:45:18.001503Z"
        },
        "papermill": {
          "duration": 2.193833,
          "end_time": "2022-12-30T16:45:18.005609",
          "exception": false,
          "start_time": "2022-12-30T16:45:15.811776",
          "status": "completed"
        },
        "tags": [],
        "id": "6f84886c",
        "outputId": "fc37ec51-2032-4f13-fedb-3773026ac8ef"
      },
      "outputs": [
        {
          "name": "stdout",
          "output_type": "stream",
          "text": [
            "F1-score% = 99.58380389536958 | Accuracy% = 99.59349593495935\n"
          ]
        },
        {
          "data": {
            "text/plain": [
              "<AxesSubplot:title={'center':'After removing Null values'}>"
            ]
          },
          "execution_count": 24,
          "metadata": {},
          "output_type": "execute_result"
        }
      ],
      "source": [
        "rnd_forest = RandomForestClassifier(random_state=42, max_features='sqrt', n_estimators= 500, max_depth=13)\n",
        "rnd_forest.fit(x_train,y_train)\n",
        "preds=rnd_forest.predict(x_test)\n",
        "conf_mat = confusion_matrix(y_test, preds)\n",
        "df_cm = pd.DataFrame(conf_mat, index=df['Disease'].unique(), columns=df['Disease'].unique())\n",
        "print('F1-score% =', f1_score(y_test, preds, average='macro')*100, '|', 'Accuracy% =', accuracy_score(y_test, preds)*100)\n",
        "sns.heatmap(df_cm)"
      ]
    },
    {
      "cell_type": "code",
      "execution_count": null,
      "id": "18c05bc3",
      "metadata": {
        "execution": {
          "iopub.execute_input": "2022-12-30T16:45:18.039561Z",
          "iopub.status.busy": "2022-12-30T16:45:18.038729Z",
          "iopub.status.idle": "2022-12-30T16:45:34.699007Z",
          "shell.execute_reply": "2022-12-30T16:45:34.697821Z"
        },
        "papermill": {
          "duration": 16.680989,
          "end_time": "2022-12-30T16:45:34.702510",
          "exception": false,
          "start_time": "2022-12-30T16:45:18.021521",
          "status": "completed"
        },
        "tags": [],
        "id": "18c05bc3",
        "outputId": "4a7d0890-7857-46ba-83cf-54767f7d32f3"
      },
      "outputs": [
        {
          "name": "stdout",
          "output_type": "stream",
          "text": [
            "Mean Accuracy: 99.187%, Standard Deviation: (0.44%)\n"
          ]
        }
      ],
      "source": [
        "kfold = KFold(n_splits=10,shuffle=True,random_state=42)\n",
        "rnd_forest_train =cross_val_score(rnd_forest, x_train, y_train, cv=kfold, scoring='accuracy')\n",
        "pd.DataFrame(rnd_forest_train,columns=['Scores'])\n",
        "print(\"Mean Accuracy: %.3f%%, Standard Deviation: (%.2f%%)\" % (rnd_forest_train.mean()*100.0, rnd_forest_train.std()*100.0))"
      ]
    },
    {
      "cell_type": "code",
      "execution_count": null,
      "id": "0e796240",
      "metadata": {
        "execution": {
          "iopub.execute_input": "2022-12-30T16:45:34.736119Z",
          "iopub.status.busy": "2022-12-30T16:45:34.735714Z",
          "iopub.status.idle": "2022-12-30T16:45:44.617431Z",
          "shell.execute_reply": "2022-12-30T16:45:44.616044Z"
        },
        "papermill": {
          "duration": 9.901697,
          "end_time": "2022-12-30T16:45:44.620448",
          "exception": false,
          "start_time": "2022-12-30T16:45:34.718751",
          "status": "completed"
        },
        "tags": [],
        "id": "0e796240",
        "outputId": "03b15e41-0f05-4b94-8a38-60af03499539"
      },
      "outputs": [
        {
          "name": "stdout",
          "output_type": "stream",
          "text": [
            "Mean Accuracy: 98.575%, Standard Deviation: (1.31%)\n"
          ]
        }
      ],
      "source": [
        "kfold = KFold(n_splits=10,shuffle=True,random_state=42)\n",
        "rnd_forest_test =cross_val_score(rnd_forest, x_test, y_test, cv=kfold, scoring='accuracy')\n",
        "pd.DataFrame(rnd_forest_test,columns=['Scores'])\n",
        "print(\"Mean Accuracy: %.3f%%, Standard Deviation: (%.2f%%)\" % (rnd_forest_test.mean()*100.0, rnd_forest_test.std()*100.0))"
      ]
    },
    {
      "cell_type": "markdown",
      "id": "ff5ed4fa",
      "metadata": {
        "papermill": {
          "duration": 0.016012,
          "end_time": "2022-12-30T16:45:44.652905",
          "exception": false,
          "start_time": "2022-12-30T16:45:44.636893",
          "status": "completed"
        },
        "tags": [],
        "id": "ff5ed4fa"
      },
      "source": [
        "# Fucntion to manually test the models"
      ]
    },
    {
      "cell_type": "code",
      "execution_count": null,
      "id": "9194ec85",
      "metadata": {
        "execution": {
          "iopub.execute_input": "2022-12-30T16:45:44.686119Z",
          "iopub.status.busy": "2022-12-30T16:45:44.685743Z",
          "iopub.status.idle": "2022-12-30T16:45:44.699207Z",
          "shell.execute_reply": "2022-12-30T16:45:44.698179Z"
        },
        "papermill": {
          "duration": 0.033337,
          "end_time": "2022-12-30T16:45:44.701973",
          "exception": false,
          "start_time": "2022-12-30T16:45:44.668636",
          "status": "completed"
        },
        "tags": [],
        "id": "9194ec85"
      },
      "outputs": [],
      "source": [
        "discrp = pd.read_csv(\"/kaggle/input/disease-symptom-description-dataset/symptom_Description.csv\")"
      ]
    },
    {
      "cell_type": "code",
      "execution_count": null,
      "id": "45b0275b",
      "metadata": {
        "execution": {
          "iopub.execute_input": "2022-12-30T16:45:44.736190Z",
          "iopub.status.busy": "2022-12-30T16:45:44.735789Z",
          "iopub.status.idle": "2022-12-30T16:45:44.746083Z",
          "shell.execute_reply": "2022-12-30T16:45:44.744927Z"
        },
        "papermill": {
          "duration": 0.029764,
          "end_time": "2022-12-30T16:45:44.748337",
          "exception": false,
          "start_time": "2022-12-30T16:45:44.718573",
          "status": "completed"
        },
        "tags": [],
        "id": "45b0275b",
        "outputId": "01947346-907b-4864-9010-8c179658ddad"
      },
      "outputs": [
        {
          "data": {
            "text/html": [
              "<div>\n",
              "<style scoped>\n",
              "    .dataframe tbody tr th:only-of-type {\n",
              "        vertical-align: middle;\n",
              "    }\n",
              "\n",
              "    .dataframe tbody tr th {\n",
              "        vertical-align: top;\n",
              "    }\n",
              "\n",
              "    .dataframe thead th {\n",
              "        text-align: right;\n",
              "    }\n",
              "</style>\n",
              "<table border=\"1\" class=\"dataframe\">\n",
              "  <thead>\n",
              "    <tr style=\"text-align: right;\">\n",
              "      <th></th>\n",
              "      <th>Disease</th>\n",
              "      <th>Description</th>\n",
              "    </tr>\n",
              "  </thead>\n",
              "  <tbody>\n",
              "    <tr>\n",
              "      <th>0</th>\n",
              "      <td>Drug Reaction</td>\n",
              "      <td>An adverse drug reaction (ADR) is an injury ca...</td>\n",
              "    </tr>\n",
              "    <tr>\n",
              "      <th>1</th>\n",
              "      <td>Malaria</td>\n",
              "      <td>An infectious disease caused by protozoan para...</td>\n",
              "    </tr>\n",
              "    <tr>\n",
              "      <th>2</th>\n",
              "      <td>Allergy</td>\n",
              "      <td>An allergy is an immune system response to a f...</td>\n",
              "    </tr>\n",
              "    <tr>\n",
              "      <th>3</th>\n",
              "      <td>Hypothyroidism</td>\n",
              "      <td>Hypothyroidism, also called underactive thyroi...</td>\n",
              "    </tr>\n",
              "    <tr>\n",
              "      <th>4</th>\n",
              "      <td>Psoriasis</td>\n",
              "      <td>Psoriasis is a common skin disorder that forms...</td>\n",
              "    </tr>\n",
              "  </tbody>\n",
              "</table>\n",
              "</div>"
            ],
            "text/plain": [
              "          Disease                                        Description\n",
              "0   Drug Reaction  An adverse drug reaction (ADR) is an injury ca...\n",
              "1         Malaria  An infectious disease caused by protozoan para...\n",
              "2         Allergy  An allergy is an immune system response to a f...\n",
              "3  Hypothyroidism  Hypothyroidism, also called underactive thyroi...\n",
              "4       Psoriasis  Psoriasis is a common skin disorder that forms..."
            ]
          },
          "execution_count": 28,
          "metadata": {},
          "output_type": "execute_result"
        }
      ],
      "source": [
        "discrp.head()"
      ]
    },
    {
      "cell_type": "code",
      "execution_count": null,
      "id": "0ae106e5",
      "metadata": {
        "execution": {
          "iopub.execute_input": "2022-12-30T16:45:44.782731Z",
          "iopub.status.busy": "2022-12-30T16:45:44.782307Z",
          "iopub.status.idle": "2022-12-30T16:45:44.793879Z",
          "shell.execute_reply": "2022-12-30T16:45:44.792727Z"
        },
        "papermill": {
          "duration": 0.031532,
          "end_time": "2022-12-30T16:45:44.796227",
          "exception": false,
          "start_time": "2022-12-30T16:45:44.764695",
          "status": "completed"
        },
        "tags": [],
        "id": "0ae106e5"
      },
      "outputs": [],
      "source": [
        "ektra7at = pd.read_csv(\"/kaggle/input/disease-symptom-description-dataset/symptom_precaution.csv\")"
      ]
    },
    {
      "cell_type": "code",
      "execution_count": null,
      "id": "6a46b5dc",
      "metadata": {
        "execution": {
          "iopub.execute_input": "2022-12-30T16:45:44.830074Z",
          "iopub.status.busy": "2022-12-30T16:45:44.829650Z",
          "iopub.status.idle": "2022-12-30T16:45:44.841645Z",
          "shell.execute_reply": "2022-12-30T16:45:44.840778Z"
        },
        "papermill": {
          "duration": 0.031232,
          "end_time": "2022-12-30T16:45:44.843687",
          "exception": false,
          "start_time": "2022-12-30T16:45:44.812455",
          "status": "completed"
        },
        "tags": [],
        "id": "6a46b5dc",
        "outputId": "a416f5b9-de54-481d-86a2-0d682d469668"
      },
      "outputs": [
        {
          "data": {
            "text/html": [
              "<div>\n",
              "<style scoped>\n",
              "    .dataframe tbody tr th:only-of-type {\n",
              "        vertical-align: middle;\n",
              "    }\n",
              "\n",
              "    .dataframe tbody tr th {\n",
              "        vertical-align: top;\n",
              "    }\n",
              "\n",
              "    .dataframe thead th {\n",
              "        text-align: right;\n",
              "    }\n",
              "</style>\n",
              "<table border=\"1\" class=\"dataframe\">\n",
              "  <thead>\n",
              "    <tr style=\"text-align: right;\">\n",
              "      <th></th>\n",
              "      <th>Disease</th>\n",
              "      <th>Precaution_1</th>\n",
              "      <th>Precaution_2</th>\n",
              "      <th>Precaution_3</th>\n",
              "      <th>Precaution_4</th>\n",
              "    </tr>\n",
              "  </thead>\n",
              "  <tbody>\n",
              "    <tr>\n",
              "      <th>0</th>\n",
              "      <td>Drug Reaction</td>\n",
              "      <td>stop irritation</td>\n",
              "      <td>consult nearest hospital</td>\n",
              "      <td>stop taking drug</td>\n",
              "      <td>follow up</td>\n",
              "    </tr>\n",
              "    <tr>\n",
              "      <th>1</th>\n",
              "      <td>Malaria</td>\n",
              "      <td>Consult nearest hospital</td>\n",
              "      <td>avoid oily food</td>\n",
              "      <td>avoid non veg food</td>\n",
              "      <td>keep mosquitos out</td>\n",
              "    </tr>\n",
              "    <tr>\n",
              "      <th>2</th>\n",
              "      <td>Allergy</td>\n",
              "      <td>apply calamine</td>\n",
              "      <td>cover area with bandage</td>\n",
              "      <td>NaN</td>\n",
              "      <td>use ice to compress itching</td>\n",
              "    </tr>\n",
              "    <tr>\n",
              "      <th>3</th>\n",
              "      <td>Hypothyroidism</td>\n",
              "      <td>reduce stress</td>\n",
              "      <td>exercise</td>\n",
              "      <td>eat healthy</td>\n",
              "      <td>get proper sleep</td>\n",
              "    </tr>\n",
              "    <tr>\n",
              "      <th>4</th>\n",
              "      <td>Psoriasis</td>\n",
              "      <td>wash hands with warm soapy water</td>\n",
              "      <td>stop bleeding using pressure</td>\n",
              "      <td>consult doctor</td>\n",
              "      <td>salt baths</td>\n",
              "    </tr>\n",
              "  </tbody>\n",
              "</table>\n",
              "</div>"
            ],
            "text/plain": [
              "          Disease                      Precaution_1  \\\n",
              "0   Drug Reaction                   stop irritation   \n",
              "1         Malaria          Consult nearest hospital   \n",
              "2         Allergy                    apply calamine   \n",
              "3  Hypothyroidism                     reduce stress   \n",
              "4       Psoriasis  wash hands with warm soapy water   \n",
              "\n",
              "                   Precaution_2        Precaution_3  \\\n",
              "0      consult nearest hospital    stop taking drug   \n",
              "1               avoid oily food  avoid non veg food   \n",
              "2       cover area with bandage                 NaN   \n",
              "3                      exercise         eat healthy   \n",
              "4  stop bleeding using pressure      consult doctor   \n",
              "\n",
              "                  Precaution_4  \n",
              "0                    follow up  \n",
              "1           keep mosquitos out  \n",
              "2  use ice to compress itching  \n",
              "3             get proper sleep  \n",
              "4                   salt baths  "
            ]
          },
          "execution_count": 30,
          "metadata": {},
          "output_type": "execute_result"
        }
      ],
      "source": [
        "ektra7at.head()"
      ]
    },
    {
      "cell_type": "markdown",
      "id": "4c1f746c",
      "metadata": {
        "papermill": {
          "duration": 0.015848,
          "end_time": "2022-12-30T16:45:44.876456",
          "exception": false,
          "start_time": "2022-12-30T16:45:44.860608",
          "status": "completed"
        },
        "tags": [],
        "id": "4c1f746c"
      },
      "source": [
        "**Save Random Forest model**"
      ]
    },
    {
      "cell_type": "code",
      "execution_count": null,
      "id": "f7f36fb5",
      "metadata": {
        "execution": {
          "iopub.execute_input": "2022-12-30T16:45:44.910577Z",
          "iopub.status.busy": "2022-12-30T16:45:44.910125Z",
          "iopub.status.idle": "2022-12-30T16:45:44.917344Z",
          "shell.execute_reply": "2022-12-30T16:45:44.916323Z"
        },
        "papermill": {
          "duration": 0.026997,
          "end_time": "2022-12-30T16:45:44.919541",
          "exception": false,
          "start_time": "2022-12-30T16:45:44.892544",
          "status": "completed"
        },
        "tags": [],
        "id": "f7f36fb5",
        "outputId": "1d240672-ae88-499a-9571-b68ab5d79154"
      },
      "outputs": [
        {
          "data": {
            "text/plain": [
              "['/kaggle/working/random_forest.joblib']"
            ]
          },
          "execution_count": 31,
          "metadata": {},
          "output_type": "execute_result"
        }
      ],
      "source": [
        "# save\n",
        "joblib.dump(rfc, \"/kaggle/working/random_forest.joblib\")"
      ]
    },
    {
      "cell_type": "markdown",
      "id": "a3d6356f",
      "metadata": {
        "papermill": {
          "duration": 0.015888,
          "end_time": "2022-12-30T16:45:44.951737",
          "exception": false,
          "start_time": "2022-12-30T16:45:44.935849",
          "status": "completed"
        },
        "tags": [],
        "id": "a3d6356f"
      },
      "source": [
        "**Load Model**"
      ]
    },
    {
      "cell_type": "code",
      "execution_count": null,
      "id": "3c93230f",
      "metadata": {
        "execution": {
          "iopub.execute_input": "2022-12-30T16:45:44.986043Z",
          "iopub.status.busy": "2022-12-30T16:45:44.985625Z",
          "iopub.status.idle": "2022-12-30T16:45:44.991489Z",
          "shell.execute_reply": "2022-12-30T16:45:44.990349Z"
        },
        "papermill": {
          "duration": 0.025718,
          "end_time": "2022-12-30T16:45:44.993718",
          "exception": false,
          "start_time": "2022-12-30T16:45:44.968000",
          "status": "completed"
        },
        "tags": [],
        "id": "3c93230f"
      },
      "outputs": [],
      "source": [
        "# load, no need to initialize the loaded_rf\n",
        "loaded_rf = joblib.load(\"/kaggle/working/random_forest.joblib\")"
      ]
    },
    {
      "cell_type": "code",
      "execution_count": null,
      "id": "e84f678d",
      "metadata": {
        "execution": {
          "iopub.execute_input": "2022-12-30T16:45:45.028408Z",
          "iopub.status.busy": "2022-12-30T16:45:45.027826Z",
          "iopub.status.idle": "2022-12-30T16:45:45.038856Z",
          "shell.execute_reply": "2022-12-30T16:45:45.037773Z"
        },
        "papermill": {
          "duration": 0.031162,
          "end_time": "2022-12-30T16:45:45.041176",
          "exception": false,
          "start_time": "2022-12-30T16:45:45.010014",
          "status": "completed"
        },
        "tags": [],
        "id": "e84f678d"
      },
      "outputs": [],
      "source": [
        "def predd(x,S1,S2,S3,S4,S5,S6,S7,S8,S9,S10,S11,S12,S13,S14,S15,S16,S17):\n",
        "    psymptoms = [S1,S2,S3,S4,S5,S6,S7,S8,S9,S10,S11,S12,S13,S14,S15,S16,S17]\n",
        "    #print(psymptoms)\n",
        "    a = np.array(df1[\"Symptom\"])\n",
        "    b = np.array(df1[\"weight\"])\n",
        "    for j in range(len(psymptoms)):\n",
        "        for k in range(len(a)):\n",
        "            if psymptoms[j]==a[k]:\n",
        "                psymptoms[j]=b[k]\n",
        "    psy = [psymptoms]\n",
        "    pred2 = x.predict(psy)\n",
        "    disp= discrp[discrp['Disease']==pred2[0]]\n",
        "    disp = disp.values[0][1]\n",
        "    recomnd = ektra7at[ektra7at['Disease']==pred2[0]]\n",
        "    c=np.where(ektra7at['Disease']==pred2[0])[0][0]\n",
        "    precuation_list=[]\n",
        "    for i in range(1,len(ektra7at.iloc[c])):\n",
        "          precuation_list.append(ektra7at.iloc[c,i])\n",
        "    print(\"The Disease Name: \",pred2[0])\n",
        "    print(\"The Disease Discription: \",disp)\n",
        "    print(\"Recommended Things to do at home: \")\n",
        "    for i in precuation_list:\n",
        "        print(i)"
      ]
    },
    {
      "cell_type": "markdown",
      "id": "2d527baa",
      "metadata": {
        "papermill": {
          "duration": 0.016135,
          "end_time": "2022-12-30T16:45:45.073975",
          "exception": false,
          "start_time": "2022-12-30T16:45:45.057840",
          "status": "completed"
        },
        "tags": [],
        "id": "2d527baa"
      },
      "source": [
        "# Comparison between algorithms testing and training"
      ]
    },
    {
      "cell_type": "code",
      "execution_count": null,
      "id": "cc6d0749",
      "metadata": {
        "execution": {
          "iopub.execute_input": "2022-12-30T16:45:45.108793Z",
          "iopub.status.busy": "2022-12-30T16:45:45.108328Z",
          "iopub.status.idle": "2022-12-30T16:45:45.113898Z",
          "shell.execute_reply": "2022-12-30T16:45:45.112659Z"
        },
        "papermill": {
          "duration": 0.025755,
          "end_time": "2022-12-30T16:45:45.116273",
          "exception": false,
          "start_time": "2022-12-30T16:45:45.090518",
          "status": "completed"
        },
        "tags": [],
        "id": "cc6d0749"
      },
      "outputs": [],
      "source": [
        "n_groups = 2\n",
        "algorithms = ('Decision Tree', 'Random Forest')\n",
        "train_accuracy = (DS_train.mean()*100.0,\n",
        "                 rnd_forest_train.mean()*100.0,)"
      ]
    },
    {
      "cell_type": "code",
      "execution_count": null,
      "id": "75685364",
      "metadata": {
        "execution": {
          "iopub.execute_input": "2022-12-30T16:45:45.150955Z",
          "iopub.status.busy": "2022-12-30T16:45:45.150554Z",
          "iopub.status.idle": "2022-12-30T16:45:45.155946Z",
          "shell.execute_reply": "2022-12-30T16:45:45.154747Z"
        },
        "papermill": {
          "duration": 0.02554,
          "end_time": "2022-12-30T16:45:45.158324",
          "exception": false,
          "start_time": "2022-12-30T16:45:45.132784",
          "status": "completed"
        },
        "tags": [],
        "id": "75685364"
      },
      "outputs": [],
      "source": [
        "test_accuracy = (DS_test.mean()*100.0,\n",
        "                 rnd_forest_test.mean()*100.0)"
      ]
    },
    {
      "cell_type": "code",
      "execution_count": null,
      "id": "8a17f2ad",
      "metadata": {
        "execution": {
          "iopub.execute_input": "2022-12-30T16:45:45.192905Z",
          "iopub.status.busy": "2022-12-30T16:45:45.192163Z",
          "iopub.status.idle": "2022-12-30T16:45:45.197758Z",
          "shell.execute_reply": "2022-12-30T16:45:45.196576Z"
        },
        "papermill": {
          "duration": 0.025319,
          "end_time": "2022-12-30T16:45:45.200042",
          "exception": false,
          "start_time": "2022-12-30T16:45:45.174723",
          "status": "completed"
        },
        "tags": [],
        "id": "8a17f2ad"
      },
      "outputs": [],
      "source": [
        "Standard_Deviation=(DS_test.std()*100.0,\n",
        "                 rnd_forest_test.std()*100.0)"
      ]
    },
    {
      "cell_type": "code",
      "execution_count": null,
      "id": "6e1b29a8",
      "metadata": {
        "execution": {
          "iopub.execute_input": "2022-12-30T16:45:45.234574Z",
          "iopub.status.busy": "2022-12-30T16:45:45.234145Z",
          "iopub.status.idle": "2022-12-30T16:45:45.338248Z",
          "shell.execute_reply": "2022-12-30T16:45:45.336702Z"
        },
        "papermill": {
          "duration": 0.125631,
          "end_time": "2022-12-30T16:45:45.342084",
          "exception": false,
          "start_time": "2022-12-30T16:45:45.216453",
          "status": "completed"
        },
        "tags": [],
        "id": "6e1b29a8"
      },
      "outputs": [],
      "source": [
        "# create plot\n",
        "fig, ax = plt.subplots(figsize=(15, 10))\n",
        "index = np.arange(n_groups)\n",
        "bar_width = 0.3\n",
        "opacity = 1\n",
        "rects1 = plt.bar(index, train_accuracy, bar_width, alpha = opacity, color='Cornflowerblue', label='Train')\n",
        "rects2 = plt.bar(index + bar_width, test_accuracy, bar_width, alpha = opacity, color='Teal', label='Test')\n",
        "rects3 = plt.bar(index + bar_width, Standard_Deviation, bar_width, alpha = opacity, color='red', label='Standard Deviation')\n",
        "plt.xlabel('Algorithm') # x axis label\n",
        "plt.ylabel('Accuracy (%)') # y axis label\n",
        "plt.ylim(0, 115)\n",
        "plt.title('Comparison of Algorithm Accuracies') # plot title\n",
        "plt.xticks(index + bar_width * 0.5, algorithms) # x axis data labels\n",
        "plt.legend(loc = 'upper right') # show legend\n",
        "for index, data in enumerate(train_accuracy):\n",
        "    plt.text(x = index - 0.035, y = data + 1, s = round(data, 2), fontdict = dict(fontsize = 8))\n",
        "for index, data in enumerate(test_accuracy):\n",
        "    plt.text(x = index + 0.25, y = data + 1, s = round(data, 2), fontdict = dict(fontsize = 8))\n",
        "for index, data in enumerate(Standard_Deviation):\n",
        "    plt.text(x = index + 0.25, y = data + 1, s = round(data, 2), fontdict = dict(fontsize = 8))"
      ]
    },
    {
      "cell_type": "markdown",
      "id": "b78cac44",
      "metadata": {
        "papermill": {
          "duration": 0.025958,
          "end_time": "2022-12-30T16:45:45.397574",
          "exception": false,
          "start_time": "2022-12-30T16:45:45.371616",
          "status": "completed"
        },
        "tags": [],
        "id": "b78cac44"
      },
      "source": [
        "**Test it Like The user would do**"
      ]
    },
    {
      "cell_type": "code",
      "execution_count": null,
      "id": "f62120e2",
      "metadata": {
        "execution": {
          "iopub.execute_input": "2022-12-30T16:45:45.435545Z",
          "iopub.status.busy": "2022-12-30T16:45:45.434795Z",
          "iopub.status.idle": "2022-12-30T16:45:45.494471Z",
          "shell.execute_reply": "2022-12-30T16:45:45.493241Z"
        },
        "papermill": {
          "duration": 0.079865,
          "end_time": "2022-12-30T16:45:45.496831",
          "exception": false,
          "start_time": "2022-12-30T16:45:45.416966",
          "status": "completed"
        },
        "tags": [],
        "id": "f62120e2",
        "outputId": "86cc4ebb-0679-49b9-9d16-5ce48a87cf13"
      },
      "outputs": [
        {
          "name": "stdout",
          "output_type": "stream",
          "text": [
            "The Disease Name:  Paralysis (brain hemorrhage)\n",
            "The Disease Discription:  Intracerebral hemorrhage (ICH) is when blood suddenly bursts into brain tissue, causing damage to your brain. Symptoms usually appear suddenly during ICH. They include headache, weakness, confusion, and paralysis, particularly on one side of your body.\n",
            "Recommended Things to do at home: \n",
            "massage\n",
            "eat healthy\n",
            "exercise\n",
            "consult doctor\n"
          ]
        }
      ],
      "source": [
        "sympList=df1[\"Symptom\"].to_list()\n",
        "predd(rnd_forest,sympList[7],sympList[5],sympList[2],sympList[80],0,0,0,0,0,0,0,0,0,0,0,0,0)"
      ]
    },
    {
      "cell_type": "code",
      "execution_count": null,
      "id": "84c76d27",
      "metadata": {
        "papermill": {
          "duration": 0.016718,
          "end_time": "2022-12-30T16:45:45.530577",
          "exception": false,
          "start_time": "2022-12-30T16:45:45.513859",
          "status": "completed"
        },
        "tags": [],
        "id": "84c76d27"
      },
      "outputs": [],
      "source": []
    }
  ],
  "metadata": {
    "kernelspec": {
      "display_name": "Python 3",
      "language": "python",
      "name": "python3"
    },
    "language_info": {
      "codemirror_mode": {
        "name": "ipython",
        "version": 3
      },
      "file_extension": ".py",
      "mimetype": "text/x-python",
      "name": "python",
      "nbconvert_exporter": "python",
      "pygments_lexer": "ipython3",
      "version": "3.7.12"
    },
    "papermill": {
      "default_parameters": {},
      "duration": 48.787312,
      "end_time": "2022-12-30T16:45:46.470035",
      "environment_variables": {},
      "exception": null,
      "input_path": "__notebook__.ipynb",
      "output_path": "__notebook__.ipynb",
      "parameters": {},
      "start_time": "2022-12-30T16:44:57.682723",
      "version": "2.3.4"
    },
    "colab": {
      "provenance": [],
      "include_colab_link": true
    }
  },
  "nbformat": 4,
  "nbformat_minor": 5
}